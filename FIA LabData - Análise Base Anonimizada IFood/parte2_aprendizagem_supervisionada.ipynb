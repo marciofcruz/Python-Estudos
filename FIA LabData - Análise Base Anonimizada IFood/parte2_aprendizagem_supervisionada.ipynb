{
  "cells": [
    {
      "cell_type": "markdown",
      "metadata": {
        "id": "m4vzf7pAK8Uf"
      },
      "source": [
        "---\n",
        "**Autores**: Prof. João Nogueira e Prof. Dino Magri\n",
        "\n",
        "**Licença deste notebook**:\n",
        "<br>\n",
        "<img align=\"left\" width=\"80\" src=\"https://licensebuttons.net/l/by/3.0/88x31.png\" />\n",
        "\n",
        "<br>\n",
        "<br>\n",
        "\n",
        "[Clique aqui para saber mais sobre a licença CC BY v4.0](https://creativecommons.org/licenses/by/4.0/legalcode.pt)\n",
        "\n",
        "\n",
        "---"
      ]
    },
    {
      "cell_type": "markdown",
      "metadata": {
        "id": "X5-3mZmZLonH"
      },
      "source": [
        "## Projeto - Parte 2 - Aprendizagem Supervisionada - Classificação - Exercícios\n",
        "\n",
        "---\n",
        "#### NOME COMPLETO: `MARCIO FERNANDES CRUZ`\n",
        "---\n",
        "\n",
        "\n"
      ]
    },
    {
      "cell_type": "markdown",
      "metadata": {
        "id": "sJBi4T46mw1q"
      },
      "source": [
        "## Definição do Problema\n",
        "\n",
        "O departamento de CRM/Marketing do iFood fez uma solicitação para o time de Ciência de Dados (que estão atrelados ao time de dados dentro da área de TI) para criar um modelo de Machine Learning para prever os clientes que darão Churn.\n",
        "\n",
        "\n",
        "O objetivo deles com o modelo é atuar sobre os clientes com maiores chances de darem churn no próximo mês.\n",
        "\n",
        "- A ação será realizada 1 vez por mês, todo dia 01.\n",
        "- Como a frequência de compras dos clientes do IFood é relativamente alta, então ficou-se decidido na reunião com a área cliente que o modelo seria construído usando features construídas em um período fechado de 1 mês para prever se um dado cliente irá deixar de comprar (churn) no próximo mês.\n",
        "\n",
        "A métrica principal de avaliação do modelo é a AUC, dado que o score gerado pelo modelo será usado para ordenar a base."
      ]
    },
    {
      "cell_type": "code",
      "execution_count": null,
      "metadata": {
        "id": "uicoU3paTsE8",
        "colab": {
          "base_uri": "https://localhost:8080/"
        },
        "outputId": "3d727a41-c46d-4187-bfe0-8265b76a5172"
      },
      "outputs": [
        {
          "output_type": "stream",
          "name": "stdout",
          "text": [
            "Mounted at /content/drive\n"
          ]
        }
      ],
      "source": [
        "from google.colab import drive\n",
        "drive.mount('/content/drive')"
      ]
    },
    {
      "cell_type": "code",
      "execution_count": null,
      "metadata": {
        "id": "c3DtDOVpVHhc"
      },
      "outputs": [],
      "source": [
        "import os\n",
        "import numpy as np\n",
        "import pandas as pd"
      ]
    },
    {
      "cell_type": "markdown",
      "metadata": {
        "id": "QqUdoi-Jg7rh"
      },
      "source": [
        "## Lendos os Dados"
      ]
    },
    {
      "cell_type": "code",
      "execution_count": null,
      "metadata": {
        "id": "Nf-EJURgVTmV"
      },
      "outputs": [],
      "source": [
        "import pandas as pd\n",
        "import os\n",
        "\n",
        "WORK_DIR = '/content/drive/MyDrive/Colab Notebooks/DataSet Data Science'\n",
        "DATA_DIR = os.path.join(WORK_DIR, 'ifood')\n",
        "df_orders = pd.read_csv(os.path.join(DATA_DIR, 'df_orders.csv'))"
      ]
    },
    {
      "cell_type": "code",
      "execution_count": null,
      "metadata": {
        "id": "VEPA1ImkVma2",
        "colab": {
          "base_uri": "https://localhost:8080/",
          "height": 476
        },
        "outputId": "94202cfe-e389-43e1-ecfe-c1684d66e1f2"
      },
      "outputs": [
        {
          "output_type": "execute_result",
          "data": {
            "text/plain": [
              "                               order_id  order_number  \\\n",
              "0  630e2af0-b456-4b3a-b964-4d66ce5cc5df    1290139943   \n",
              "1  66f8163d-f081-4fbd-adb8-cfbbff9213f7    1141271215   \n",
              "2  e8c55557-81d4-4159-bd2b-c144e5fbabe3     694742752   \n",
              "3  34a60e0d-0042-49af-9aa8-4dc526a998c2     679245732   \n",
              "\n",
              "      order_timestamp_local     order_shift    last_status_date_local  \\\n",
              "0  2019-12-11T13:22:06.497Z   weekday lunch  2019-12-11T15:22:39.156Z   \n",
              "1  2019-11-06T17:57:17.967Z  weekday dinner  2019-11-06T18:18:48.680Z   \n",
              "2  2019-06-11T20:42:32.058Z  weekday dinner  2019-06-11T22:42:54.005Z   \n",
              "3  2019-06-05T19:16:42.111Z  weekday dinner  2019-06-05T21:17:13.264Z   \n",
              "\n",
              "   order_total  credit  paid_amount delivery_type  scheduled  ...  \\\n",
              "0        28.90    14.0         24.9      DELIVERY      False  ...   \n",
              "1        56.35     7.9         50.4      DELIVERY      False  ...   \n",
              "2        53.80     4.0         49.8      DELIVERY      False  ...   \n",
              "3        58.90     4.0         54.9      DELIVERY      False  ...   \n",
              "\n",
              "  distance_merchant_customer promo_is_promotion normal_items_quantity  \\\n",
              "0                2722.603906                0.0                   2.0   \n",
              "1                1108.823183                1.0                   0.0   \n",
              "2                1642.258522                0.0                   2.0   \n",
              "3                 441.677507                0.0                   1.0   \n",
              "\n",
              "  promo_items_quantity order_lag_at_login order_lead_at_login  \\\n",
              "0                  0.0                2.0                 1.0   \n",
              "1                  1.0                7.0                 1.0   \n",
              "2                  0.0                5.0                 1.0   \n",
              "3                  0.0                9.0                 2.0   \n",
              "\n",
              "           order_date_local valid_order                            session_id  \\\n",
              "0  2019-12-11T00:00:00.000Z           1  ccbcf9e2-3728-4458-a813-4031ae22e4bd   \n",
              "1  2019-11-06T00:00:00.000Z           1  d9e94d88-ca88-4997-ad4c-62b9c0a35c1b   \n",
              "2  2019-06-11T00:00:00.000Z           1  035b33cd-6ddf-4ee2-a887-7ba490bb9700   \n",
              "3  2019-06-05T00:00:00.000Z           1  93f66506-a8ba-4c22-97ea-7489131958bb   \n",
              "\n",
              "                                         customer_id  \n",
              "0  48b6d81407646ca61163f064a426ce38ac08bed2ce84f0...  \n",
              "1  b3f74186880f5f9a79e0865ad8beab47e22b785b8b3bc0...  \n",
              "2  c4f8999d4cb83cac8134b2051ffc611d5d660c049c3744...  \n",
              "3  ac89a3eb35853705a09d54f1e5988ad876628b986045cd...  \n",
              "\n",
              "[4 rows x 43 columns]"
            ],
            "text/html": [
              "\n",
              "  <div id=\"df-282a88f1-d698-456e-afd0-eb21166dc216\">\n",
              "    <div class=\"colab-df-container\">\n",
              "      <div>\n",
              "<style scoped>\n",
              "    .dataframe tbody tr th:only-of-type {\n",
              "        vertical-align: middle;\n",
              "    }\n",
              "\n",
              "    .dataframe tbody tr th {\n",
              "        vertical-align: top;\n",
              "    }\n",
              "\n",
              "    .dataframe thead th {\n",
              "        text-align: right;\n",
              "    }\n",
              "</style>\n",
              "<table border=\"1\" class=\"dataframe\">\n",
              "  <thead>\n",
              "    <tr style=\"text-align: right;\">\n",
              "      <th></th>\n",
              "      <th>order_id</th>\n",
              "      <th>order_number</th>\n",
              "      <th>order_timestamp_local</th>\n",
              "      <th>order_shift</th>\n",
              "      <th>last_status_date_local</th>\n",
              "      <th>order_total</th>\n",
              "      <th>credit</th>\n",
              "      <th>paid_amount</th>\n",
              "      <th>delivery_type</th>\n",
              "      <th>scheduled</th>\n",
              "      <th>...</th>\n",
              "      <th>distance_merchant_customer</th>\n",
              "      <th>promo_is_promotion</th>\n",
              "      <th>normal_items_quantity</th>\n",
              "      <th>promo_items_quantity</th>\n",
              "      <th>order_lag_at_login</th>\n",
              "      <th>order_lead_at_login</th>\n",
              "      <th>order_date_local</th>\n",
              "      <th>valid_order</th>\n",
              "      <th>session_id</th>\n",
              "      <th>customer_id</th>\n",
              "    </tr>\n",
              "  </thead>\n",
              "  <tbody>\n",
              "    <tr>\n",
              "      <th>0</th>\n",
              "      <td>630e2af0-b456-4b3a-b964-4d66ce5cc5df</td>\n",
              "      <td>1290139943</td>\n",
              "      <td>2019-12-11T13:22:06.497Z</td>\n",
              "      <td>weekday lunch</td>\n",
              "      <td>2019-12-11T15:22:39.156Z</td>\n",
              "      <td>28.90</td>\n",
              "      <td>14.0</td>\n",
              "      <td>24.9</td>\n",
              "      <td>DELIVERY</td>\n",
              "      <td>False</td>\n",
              "      <td>...</td>\n",
              "      <td>2722.603906</td>\n",
              "      <td>0.0</td>\n",
              "      <td>2.0</td>\n",
              "      <td>0.0</td>\n",
              "      <td>2.0</td>\n",
              "      <td>1.0</td>\n",
              "      <td>2019-12-11T00:00:00.000Z</td>\n",
              "      <td>1</td>\n",
              "      <td>ccbcf9e2-3728-4458-a813-4031ae22e4bd</td>\n",
              "      <td>48b6d81407646ca61163f064a426ce38ac08bed2ce84f0...</td>\n",
              "    </tr>\n",
              "    <tr>\n",
              "      <th>1</th>\n",
              "      <td>66f8163d-f081-4fbd-adb8-cfbbff9213f7</td>\n",
              "      <td>1141271215</td>\n",
              "      <td>2019-11-06T17:57:17.967Z</td>\n",
              "      <td>weekday dinner</td>\n",
              "      <td>2019-11-06T18:18:48.680Z</td>\n",
              "      <td>56.35</td>\n",
              "      <td>7.9</td>\n",
              "      <td>50.4</td>\n",
              "      <td>DELIVERY</td>\n",
              "      <td>False</td>\n",
              "      <td>...</td>\n",
              "      <td>1108.823183</td>\n",
              "      <td>1.0</td>\n",
              "      <td>0.0</td>\n",
              "      <td>1.0</td>\n",
              "      <td>7.0</td>\n",
              "      <td>1.0</td>\n",
              "      <td>2019-11-06T00:00:00.000Z</td>\n",
              "      <td>1</td>\n",
              "      <td>d9e94d88-ca88-4997-ad4c-62b9c0a35c1b</td>\n",
              "      <td>b3f74186880f5f9a79e0865ad8beab47e22b785b8b3bc0...</td>\n",
              "    </tr>\n",
              "    <tr>\n",
              "      <th>2</th>\n",
              "      <td>e8c55557-81d4-4159-bd2b-c144e5fbabe3</td>\n",
              "      <td>694742752</td>\n",
              "      <td>2019-06-11T20:42:32.058Z</td>\n",
              "      <td>weekday dinner</td>\n",
              "      <td>2019-06-11T22:42:54.005Z</td>\n",
              "      <td>53.80</td>\n",
              "      <td>4.0</td>\n",
              "      <td>49.8</td>\n",
              "      <td>DELIVERY</td>\n",
              "      <td>False</td>\n",
              "      <td>...</td>\n",
              "      <td>1642.258522</td>\n",
              "      <td>0.0</td>\n",
              "      <td>2.0</td>\n",
              "      <td>0.0</td>\n",
              "      <td>5.0</td>\n",
              "      <td>1.0</td>\n",
              "      <td>2019-06-11T00:00:00.000Z</td>\n",
              "      <td>1</td>\n",
              "      <td>035b33cd-6ddf-4ee2-a887-7ba490bb9700</td>\n",
              "      <td>c4f8999d4cb83cac8134b2051ffc611d5d660c049c3744...</td>\n",
              "    </tr>\n",
              "    <tr>\n",
              "      <th>3</th>\n",
              "      <td>34a60e0d-0042-49af-9aa8-4dc526a998c2</td>\n",
              "      <td>679245732</td>\n",
              "      <td>2019-06-05T19:16:42.111Z</td>\n",
              "      <td>weekday dinner</td>\n",
              "      <td>2019-06-05T21:17:13.264Z</td>\n",
              "      <td>58.90</td>\n",
              "      <td>4.0</td>\n",
              "      <td>54.9</td>\n",
              "      <td>DELIVERY</td>\n",
              "      <td>False</td>\n",
              "      <td>...</td>\n",
              "      <td>441.677507</td>\n",
              "      <td>0.0</td>\n",
              "      <td>1.0</td>\n",
              "      <td>0.0</td>\n",
              "      <td>9.0</td>\n",
              "      <td>2.0</td>\n",
              "      <td>2019-06-05T00:00:00.000Z</td>\n",
              "      <td>1</td>\n",
              "      <td>93f66506-a8ba-4c22-97ea-7489131958bb</td>\n",
              "      <td>ac89a3eb35853705a09d54f1e5988ad876628b986045cd...</td>\n",
              "    </tr>\n",
              "  </tbody>\n",
              "</table>\n",
              "<p>4 rows × 43 columns</p>\n",
              "</div>\n",
              "      <button class=\"colab-df-convert\" onclick=\"convertToInteractive('df-282a88f1-d698-456e-afd0-eb21166dc216')\"\n",
              "              title=\"Convert this dataframe to an interactive table.\"\n",
              "              style=\"display:none;\">\n",
              "        \n",
              "  <svg xmlns=\"http://www.w3.org/2000/svg\" height=\"24px\"viewBox=\"0 0 24 24\"\n",
              "       width=\"24px\">\n",
              "    <path d=\"M0 0h24v24H0V0z\" fill=\"none\"/>\n",
              "    <path d=\"M18.56 5.44l.94 2.06.94-2.06 2.06-.94-2.06-.94-.94-2.06-.94 2.06-2.06.94zm-11 1L8.5 8.5l.94-2.06 2.06-.94-2.06-.94L8.5 2.5l-.94 2.06-2.06.94zm10 10l.94 2.06.94-2.06 2.06-.94-2.06-.94-.94-2.06-.94 2.06-2.06.94z\"/><path d=\"M17.41 7.96l-1.37-1.37c-.4-.4-.92-.59-1.43-.59-.52 0-1.04.2-1.43.59L10.3 9.45l-7.72 7.72c-.78.78-.78 2.05 0 2.83L4 21.41c.39.39.9.59 1.41.59.51 0 1.02-.2 1.41-.59l7.78-7.78 2.81-2.81c.8-.78.8-2.07 0-2.86zM5.41 20L4 18.59l7.72-7.72 1.47 1.35L5.41 20z\"/>\n",
              "  </svg>\n",
              "      </button>\n",
              "      \n",
              "  <style>\n",
              "    .colab-df-container {\n",
              "      display:flex;\n",
              "      flex-wrap:wrap;\n",
              "      gap: 12px;\n",
              "    }\n",
              "\n",
              "    .colab-df-convert {\n",
              "      background-color: #E8F0FE;\n",
              "      border: none;\n",
              "      border-radius: 50%;\n",
              "      cursor: pointer;\n",
              "      display: none;\n",
              "      fill: #1967D2;\n",
              "      height: 32px;\n",
              "      padding: 0 0 0 0;\n",
              "      width: 32px;\n",
              "    }\n",
              "\n",
              "    .colab-df-convert:hover {\n",
              "      background-color: #E2EBFA;\n",
              "      box-shadow: 0px 1px 2px rgba(60, 64, 67, 0.3), 0px 1px 3px 1px rgba(60, 64, 67, 0.15);\n",
              "      fill: #174EA6;\n",
              "    }\n",
              "\n",
              "    [theme=dark] .colab-df-convert {\n",
              "      background-color: #3B4455;\n",
              "      fill: #D2E3FC;\n",
              "    }\n",
              "\n",
              "    [theme=dark] .colab-df-convert:hover {\n",
              "      background-color: #434B5C;\n",
              "      box-shadow: 0px 1px 3px 1px rgba(0, 0, 0, 0.15);\n",
              "      filter: drop-shadow(0px 1px 2px rgba(0, 0, 0, 0.3));\n",
              "      fill: #FFFFFF;\n",
              "    }\n",
              "  </style>\n",
              "\n",
              "      <script>\n",
              "        const buttonEl =\n",
              "          document.querySelector('#df-282a88f1-d698-456e-afd0-eb21166dc216 button.colab-df-convert');\n",
              "        buttonEl.style.display =\n",
              "          google.colab.kernel.accessAllowed ? 'block' : 'none';\n",
              "\n",
              "        async function convertToInteractive(key) {\n",
              "          const element = document.querySelector('#df-282a88f1-d698-456e-afd0-eb21166dc216');\n",
              "          const dataTable =\n",
              "            await google.colab.kernel.invokeFunction('convertToInteractive',\n",
              "                                                     [key], {});\n",
              "          if (!dataTable) return;\n",
              "\n",
              "          const docLinkHtml = 'Like what you see? Visit the ' +\n",
              "            '<a target=\"_blank\" href=https://colab.research.google.com/notebooks/data_table.ipynb>data table notebook</a>'\n",
              "            + ' to learn more about interactive tables.';\n",
              "          element.innerHTML = '';\n",
              "          dataTable['output_type'] = 'display_data';\n",
              "          await google.colab.output.renderOutput(dataTable, element);\n",
              "          const docLink = document.createElement('div');\n",
              "          docLink.innerHTML = docLinkHtml;\n",
              "          element.appendChild(docLink);\n",
              "        }\n",
              "      </script>\n",
              "    </div>\n",
              "  </div>\n",
              "  "
            ]
          },
          "metadata": {},
          "execution_count": 4
        }
      ],
      "source": [
        "df_orders.head(4)"
      ]
    },
    {
      "cell_type": "markdown",
      "metadata": {
        "id": "DNd9GgOCg-2Y"
      },
      "source": [
        "## Análise Exploratória (1 ponto)"
      ]
    },
    {
      "cell_type": "markdown",
      "metadata": {
        "id": "ROq2SyoiQOI6"
      },
      "source": [
        "**<span style=\"color:blue\">(0.25 ponto)</span> `Q1`** Quantas linhas e colunas existem na base `df_orders`?"
      ]
    },
    {
      "cell_type": "code",
      "execution_count": null,
      "metadata": {
        "id": "VauO-AOaYlX4",
        "colab": {
          "base_uri": "https://localhost:8080/"
        },
        "outputId": "3acae9ec-46cd-4eff-93c5-5af25e471c7d"
      },
      "outputs": [
        {
          "output_type": "stream",
          "name": "stdout",
          "text": [
            "Resposta: O total de linhas é 492138 e o de olunas é 43\n"
          ]
        }
      ],
      "source": [
        "total_linha = df_orders.shape[0]\n",
        "total_colunas = df_orders.shape[1]\n",
        "\n",
        "print(f'Resposta: O total de linhas é {total_linha} e o de olunas é {total_colunas}')"
      ]
    },
    {
      "cell_type": "markdown",
      "metadata": {
        "id": "kEeqn7n_QiYB"
      },
      "source": [
        "**<span style=\"color:blue\">(0.25 ponto)</span> `Q2`** Verifique se todos os pedidos são unicos."
      ]
    },
    {
      "cell_type": "code",
      "execution_count": null,
      "metadata": {
        "id": "aQ7kaix0YjCS",
        "colab": {
          "base_uri": "https://localhost:8080/"
        },
        "outputId": "973649b4-2972-4910-8f79-73e74fcc4570"
      },
      "outputs": [
        {
          "output_type": "stream",
          "name": "stdout",
          "text": [
            "Resposta: Os pedidos são unicos\n"
          ]
        }
      ],
      "source": [
        "if len(df_orders['order_id'].unique())==df_orders.shape[0]:\n",
        "  print('Resposta: Os pedidos são unicos')\n",
        "else:\n",
        "  print('Resposta: Os pedidos não são unicos')\n"
      ]
    },
    {
      "cell_type": "markdown",
      "metadata": {
        "id": "LvoDyJXghBT3"
      },
      "source": [
        "**<span style=\"color:blue\">(0.25 ponto)</span> `Q3`** Qual o pedido mais antigo e o mais recente da base? Utilize a variável `order_timestamp_local`."
      ]
    },
    {
      "cell_type": "code",
      "execution_count": null,
      "metadata": {
        "id": "CL3mdJP0V-B1",
        "colab": {
          "base_uri": "https://localhost:8080/"
        },
        "outputId": "e9a5cb3b-5044-4ac1-8fb0-72010aafaa8f"
      },
      "outputs": [
        {
          "output_type": "stream",
          "name": "stdout",
          "text": [
            "Resposta: O pedido mais antigo é 667742584 com data de 2019-06-01 00:00:15.369000+00:00\n",
            "Resposta: O pedido mais novo é 1373960993 com data de 2019-12-31 23:31:59.972000+00:00\n"
          ]
        }
      ],
      "source": [
        "df_orders['order_timestamp_local'] = pd.to_datetime(df_orders['order_timestamp_local'])\n",
        "df_velho = (\n",
        "    df_orders.groupby('order_number')\n",
        "    .agg(velho = ('order_timestamp_local','min')).nsmallest(1, 'velho'))\n",
        "df_velho.reset_index(inplace=True)\n",
        "data_pedido_mais_antigo = df_velho.loc[0][\"velho\"]\n",
        "numero_pedido_mais_antigo = df_velho.loc[0][\"order_number\"]\n",
        "\n",
        "df_novo = (\n",
        "    df_orders.groupby('order_number')\n",
        "    .agg(novo = ('order_timestamp_local','max')).nlargest(1, 'novo'))\n",
        "df_novo.reset_index(inplace=True)\n",
        "data_pedido_mais_novo = df_novo.loc[0][\"novo\"]\n",
        "numero_pedido_mais_novo = df_novo.loc[0][\"order_number\"]\n",
        "\n",
        "print(f\"Resposta: O pedido mais antigo é {numero_pedido_mais_antigo} com data de {data_pedido_mais_antigo}\")\n",
        "print(f\"Resposta: O pedido mais novo é {numero_pedido_mais_novo} com data de {data_pedido_mais_novo}\")\n"
      ]
    },
    {
      "cell_type": "markdown",
      "metadata": {
        "id": "M3Z1Om0cQ1NP"
      },
      "source": [
        "**<span style=\"color:blue\">(0.25 ponto)</span> `Q4`** Quantos usuários únicos existem na base?"
      ]
    },
    {
      "cell_type": "code",
      "execution_count": null,
      "metadata": {
        "id": "Tgsn3hQphLgy",
        "colab": {
          "base_uri": "https://localhost:8080/"
        },
        "outputId": "d5f604de-48cd-4744-8c45-974358319567"
      },
      "outputs": [
        {
          "output_type": "stream",
          "name": "stdout",
          "text": [
            "Resposta: O número de usuários únicos na base é  30079\n"
          ]
        }
      ],
      "source": [
        "print('Resposta: O número de usuários únicos na base é ', len(df_orders['customer_id'].unique()))\n"
      ]
    },
    {
      "cell_type": "markdown",
      "metadata": {
        "id": "_66-ZZfPWLS8"
      },
      "source": [
        "## Criação da ABT (10 pontos)\n",
        "\n",
        "Será que variáveis como Recência, Frequência e Valor podem nos ajudar a prever se um dado cliente irá realizar um novo pedido no próximo mês?\n",
        "\n",
        "Vamos criar variáveis que descrevem o comportamento do cliente com base em 1 mês e usar essas variáveis para prever se o cliente irá comprar no próximo mês (caso em que acontecerá um churn e talvez seja interessante oferecermos um cupom de desconto através de notificações no app)."
      ]
    },
    {
      "cell_type": "markdown",
      "metadata": {
        "id": "jR3_CfNPTAEj"
      },
      "source": [
        "**<span style=\"color:blue\">(1.0 ponto)</span> `Q5`** Crie um DataFrame chamado `df_features_train` que deverá conter os dados do período 2019-06-01 (inclusivo) até 2019-07-01 (exclusivo), ou seja deve conter somente os dados referente ao mês 6."
      ]
    },
    {
      "cell_type": "code",
      "execution_count": null,
      "metadata": {
        "id": "lY8CkCGDTqmX",
        "colab": {
          "base_uri": "https://localhost:8080/"
        },
        "outputId": "07c559eb-fb2b-4e96-ee74-d54db46630b6"
      },
      "outputs": [
        {
          "output_type": "stream",
          "name": "stdout",
          "text": [
            "Análise: Em Junho/2019 há 88451 observações.\n"
          ]
        }
      ],
      "source": [
        "filtro = (df_orders[\"order_timestamp_local\"]>=\"2019-06-01\") & (df_orders[\"order_timestamp_local\"]<\"2019-07-01\")\n",
        "df_features_train  = df_orders[filtro]\n",
        "\n",
        "print(f'Análise: Em Junho/2019 há {df_features_train.shape[0]} observações.')\n"
      ]
    },
    {
      "cell_type": "markdown",
      "metadata": {
        "id": "GOz7RrteTrfG"
      },
      "source": [
        "**<span style=\"color:blue\">(1.0 ponto)</span> `Q6`** Crie um DataFrame chamado `df_target_train` que deverá conter os dados do período 2019-07-01 (inclusivo) até 2019-08-01 (exclusivo), ou seja deve conter somente os dados referente ao mês 7.\n",
        "\n",
        "Depois selecione apenas a coluna `customer_id` e remova os duplicados."
      ]
    },
    {
      "cell_type": "code",
      "execution_count": null,
      "metadata": {
        "id": "9e9ZeqqeUi8A",
        "colab": {
          "base_uri": "https://localhost:8080/"
        },
        "outputId": "a93370d4-ff5b-44b9-a717-09c8a4985599"
      },
      "outputs": [
        {
          "output_type": "stream",
          "name": "stdout",
          "text": [
            "Existem 18441 clientes que fizeram compra em Julho/2019\n"
          ]
        }
      ],
      "source": [
        "filtro = (df_orders[\"order_timestamp_local\"]>=\"2019-07-01\") & (df_orders[\"order_timestamp_local\"]<\"2019-08-01\")\n",
        "df_target_train  = df_orders[filtro]\n",
        "\n",
        "df_target_train = df_target_train[[\"customer_id\"]]\n",
        "df_target_train.drop_duplicates(inplace=True)\n",
        "\n",
        "print(f'Existem {df_target_train.shape[0]} clientes que fizeram compra em Julho/2019')"
      ]
    },
    {
      "cell_type": "markdown",
      "metadata": {
        "id": "O6S9-yfIVSYv"
      },
      "source": [
        "**<span style=\"color:blue\">(2.0 ponto)</span> `Q7`** Faça o agrupamento no DataFrame `df_features_train` pela feature `customer_id`. Faça as agregações abaixo, renomeando o resultado para as seguintes colunas `receita_1m`, `qtd_pedidos_1m` e `data_ultima_venda`, respectivamente.\n",
        "\n",
        "- 'paid_amount' - 'sum'\n",
        "- 'order_id' - 'nunique'\n",
        "- 'order_timestamp_local' - 'max'\n",
        "\n",
        "Lembre-se de utilizar o conceito que vimos em sala para renomear o resultado da agregação.\n",
        "\n",
        "Também utilize o método `reset_index` para reinicar os indices.\n",
        "\n",
        "Salve na variável `df_abt_train`."
      ]
    },
    {
      "cell_type": "code",
      "execution_count": null,
      "metadata": {
        "id": "gOHlSCXQZMNF"
      },
      "outputs": [],
      "source": [
        "# Treino sobre os dados de Junho/2019\n",
        "\n",
        "df_abt_train = (\n",
        "    df_features_train\n",
        "    .groupby(\"customer_id\")\n",
        "    .agg(receita_1m = ('paid_amount', 'sum'),\n",
        "         qtd_pedidos_1m  = ('order_id', 'nunique'),\n",
        "         data_ultima_venda = ('order_timestamp_local', 'max')\n",
        "    )\n",
        "    .reset_index()\n",
        ")"
      ]
    },
    {
      "cell_type": "markdown",
      "metadata": {
        "id": "yipoK428kHa3"
      },
      "source": [
        "**<span style=\"color:blue\">(3.0 pontos)</span> `Q8`** Utilize o método `.assign` do DataFrame para fazer as seguintes alterações:\n",
        "\n",
        "- Altere o tipo da coluna `data_ultima_venda` para o formato de data utilizando o comando `pd.to_datetime` com o parâmetro `utc=True`.\n",
        "- Crie uma nova coluna chamada `data_ref` com o valor de `2019-07-01` e faça a converção utilizando o comando `pd.to_datetime` com o parâmetro `utc=True`\n",
        "- Crie uma nova coluna chamada `recencia` e salve os dias referentes a subtração da coluna `data_ref` e `data_ultima_venda`. Lembre-se de extrair os dias (`.dt.days`)\n",
        "- Por fim, selecione apenas as seguintes colunas: `['data_ref', 'customer_id', 'receita_1m', 'qtd_pedidos_1m', 'recencia']`\n",
        "\n",
        "O resultado dessas alterações devem ser salvas na variável `df_abt_train`\n"
      ]
    },
    {
      "cell_type": "code",
      "execution_count": null,
      "metadata": {
        "id": "VFDN_957umP8"
      },
      "outputs": [],
      "source": [
        "df_abt_train[\"data_ultima_venda\"] =  pd.to_datetime(df_abt_train[\"data_ultima_venda\"], utc=True)\n",
        "df_abt_train[\"data_ref\"] = \"2019-07-01\"\n",
        "df_abt_train[\"data_ref\"] = pd.to_datetime(df_abt_train[\"data_ref\"], utc=True)\n",
        "\n",
        "df_abt_train = df_abt_train.assign(recencia = lambda df: (df['data_ref'] - df['data_ultima_venda']).dt.days)\n",
        "\n",
        "df_abt_train = df_abt_train[[\"data_ref\", \"customer_id\", \"receita_1m\", \"qtd_pedidos_1m\", \"recencia\"]]"
      ]
    },
    {
      "cell_type": "markdown",
      "metadata": {
        "id": "lJ7OIAN7yZGm"
      },
      "source": [
        "**<span style=\"color:blue\">(1.0 pontos)</span> `Q9`** Faça o `merge` com o DataFrame `df_abt_train` com o `df_target_train` com os seguintes parametros:\n",
        "\n",
        "- `how='left'`\n",
        "- `on='customer_id'`\n",
        "- `indicator=True`\n",
        "\n",
        "Salve o merge na variável `df_abt_train`.\n"
      ]
    },
    {
      "cell_type": "code",
      "source": [
        "df_abt_train = df_abt_train.merge(df_target_train, how='left', on=\"customer_id\", indicator=True)\n",
        "df_abt_train.shape"
      ],
      "metadata": {
        "id": "qhAMgik9xb6N",
        "colab": {
          "base_uri": "https://localhost:8080/"
        },
        "outputId": "161e0697-98d7-499e-c1fd-a18da24d9a57"
      },
      "execution_count": null,
      "outputs": [
        {
          "output_type": "execute_result",
          "data": {
            "text/plain": [
              "(30079, 6)"
            ]
          },
          "metadata": {},
          "execution_count": 13
        }
      ]
    },
    {
      "cell_type": "markdown",
      "metadata": {
        "id": "ESh5eEKxFiOb"
      },
      "source": [
        "**<span style=\"color:blue\">(1.0 pontos)</span> `Q10`** Utilize o método `.assign` para criar a coluna `churn_next_month`.\n",
        "\n",
        "Utilize a função `np.where` para fazer a criação. Compare as colunas `_merge` com `left_only`, se ambas forem iguais, o resultado deve ser 1, caso contrário deve ser 0.\n",
        "\n",
        "* Obs: não esquecer de dropar a coluna `_merge` depois de ter criado a variável target."
      ]
    },
    {
      "cell_type": "code",
      "execution_count": null,
      "metadata": {
        "id": "3_nJDgtFFhxP"
      },
      "outputs": [],
      "source": [
        "df_abt_train = df_abt_train.assign(churn_next_month = np.where(df_abt_train['_merge']=='left_only','1','0'))\n",
        "df_abt_train.drop(\"_merge\", axis=1, inplace=True)\n"
      ]
    },
    {
      "cell_type": "markdown",
      "metadata": {
        "id": "LZ0KCidHKELP"
      },
      "source": [
        "**<span style=\"color:blue\">(1.0 pontos)</span> `Q11`** Verifique a distribuição da coluna `churn`."
      ]
    },
    {
      "cell_type": "code",
      "execution_count": null,
      "metadata": {
        "id": "DQ3rDd9_WK_8",
        "colab": {
          "base_uri": "https://localhost:8080/"
        },
        "outputId": "042c4203-0dda-4980-e240-4996126e9f19"
      },
      "outputs": [
        {
          "output_type": "stream",
          "name": "stdout",
          "text": [
            "Resposta: A distribuição é 0.6130855414076266 para não-churn e 0.3869144585923734 para churn em um total de 30079 observações\n"
          ]
        }
      ],
      "source": [
        "nao_churn = df_abt_train[\"churn_next_month\"].value_counts(normalize=True)[0]\n",
        "churn = df_abt_train[\"churn_next_month\"].value_counts(normalize=True)[1]\n",
        "total_linhas = df_abt_train.shape[0]\n",
        "\n",
        "print(f'Resposta: A distribuição é {nao_churn} para não-churn e {churn} para churn em um total de {total_linhas} observações')\n"
      ]
    },
    {
      "cell_type": "markdown",
      "metadata": {
        "id": "02NkJo_nLFGh"
      },
      "source": [
        "<img align=\"left\" width=\"20\" src=\"http://dinomagri.com/imgs/checkpoint.png\" /> &nbsp; **CHECKPOINT** - O DataFrame `df_abt_train` deverá conter exatamente `(30079, 6)`. E a distribuição da variável target deve ser `0.613086` para não-churn (0) e `0.386914` para churn (1)."
      ]
    },
    {
      "cell_type": "markdown",
      "metadata": {
        "id": "9w1v4ps7kpMT"
      },
      "source": [
        "# Modelagem (14 pontos)"
      ]
    },
    {
      "cell_type": "markdown",
      "metadata": {
        "id": "Vs9eiX7phZML"
      },
      "source": [
        "**<span style=\"color:blue\">(2 pontos)</span> `Q12`** Crie uma ABT Out of Time avançando 1 mês no código anterior. Utilize o mês 08 para criar essa ABT. Utilize os nomes `df_features_oot`, `df_target_oot` e `df_abt_oot`."
      ]
    },
    {
      "cell_type": "code",
      "execution_count": null,
      "metadata": {
        "id": "V1j7mAHdcEiP",
        "colab": {
          "base_uri": "https://localhost:8080/"
        },
        "outputId": "9a84214e-74e2-45aa-e73d-595308e1fa82"
      },
      "outputs": [
        {
          "output_type": "stream",
          "name": "stdout",
          "text": [
            "A distribuição é 0.7595575077273466 para não-churn e 0.24044249227265332 para churn em um total de 18441 observações com 6 colunas\n"
          ]
        }
      ],
      "source": [
        "# features\n",
        "filtro = (df_orders[\"order_timestamp_local\"]>=\"2019-07-01\") & (df_orders[\"order_timestamp_local\"]<\"2019-08-01\")\n",
        "df_features_oot  = df_orders[filtro]\n",
        "\n",
        "# target\n",
        "filtro = (df_orders[\"order_timestamp_local\"]>=\"2019-08-01\") & (df_orders[\"order_timestamp_local\"]<\"2019-09-01\")\n",
        "df_target_oot  = df_orders[filtro]\n",
        "df_target_oot = df_target_oot[[\"customer_id\"]]\n",
        "df_target_oot.drop_duplicates(inplace=True)\n",
        "\n",
        "#abt\n",
        "df_abt_oot = (\n",
        "    df_features_oot\n",
        "    .groupby(\"customer_id\")\n",
        "    .agg(receita_1m = ('paid_amount', 'sum'),\n",
        "         qtd_pedidos_1m  = ('order_id', 'nunique'),\n",
        "         data_ultima_venda = ('order_timestamp_local', 'max')\n",
        "    )\n",
        "    .reset_index()\n",
        ")\n",
        "\n",
        "\n",
        "df_abt_oot[\"data_ultima_venda\"] =  pd.to_datetime(df_abt_oot[\"data_ultima_venda\"], utc=True)\n",
        "df_abt_oot[\"data_ref\"] = \"2019-08-01\"\n",
        "df_abt_oot[\"data_ref\"] = pd.to_datetime(df_abt_oot[\"data_ref\"], utc=True)\n",
        "df_abt_oot = df_abt_oot.assign(recencia = lambda df: (df['data_ref'] - df['data_ultima_venda']).dt.days)\n",
        "\n",
        "df_abt_oot = df_abt_oot[[\"data_ref\", \"customer_id\", \"receita_1m\", \"qtd_pedidos_1m\", \"recencia\"]]\n",
        "\n",
        "# merge\n",
        "df_abt_oot = df_abt_oot.merge(df_target_oot, how='left', on=\"customer_id\", indicator=True)\n",
        "\n",
        "# churn\n",
        "df_abt_oot = df_abt_oot.assign(churn_next_month = np.where(df_abt_oot['_merge']=='left_only','1','0'))\n",
        "df_abt_oot.drop(\"_merge\", axis=1, inplace=True)\n",
        "\n",
        "nao_churn = df_abt_oot[\"churn_next_month\"].value_counts(normalize=True)[0]\n",
        "churn = df_abt_oot[\"churn_next_month\"].value_counts(normalize=True)[1]\n",
        "total_linhas = df_abt_oot.shape[0]\n",
        "total_colunas = df_abt_oot.shape[1]\n",
        "\n",
        "print(f'A distribuição é {nao_churn} para não-churn e {churn} para churn em um total de {total_linhas} observações com {total_colunas} colunas')"
      ]
    },
    {
      "cell_type": "markdown",
      "source": [
        "**Porque devemos criar uma ABT Out of Time?**\n",
        "\n",
        "Quando em nossa base possuimos uma coluna separatriz por data, podemos usar  uma ABT Out Of Time, onde deixamos um periodo posterior como validação, simulando algo que ainda \"não aconteceu\", tentando validar uma situação mais próximo do modelo em produção, por fim, aumentando a possibilidade de sucesso pós-implantação do trabalho."
      ],
      "metadata": {
        "id": "1xF_ZNrklLXn"
      }
    },
    {
      "cell_type": "markdown",
      "metadata": {
        "id": "GJlUlDzKNKwG"
      },
      "source": [
        "<img align=\"left\" width=\"20\" src=\"http://dinomagri.com/imgs/checkpoint.png\" /> &nbsp; **CHECKPOINT** - O DataFrame `df_abt_oot` deverá conter exatamente `(18441, 6)`. E a distribuição da variável target deve ser `0.759558` para não-churn (0) e `0.240442` para churn (1)."
      ]
    },
    {
      "cell_type": "markdown",
      "metadata": {
        "id": "53Wh4cf8hwdI"
      },
      "source": [
        "**<span style=\"color:blue\">(1 ponto)</span> `Q13`** Faça um estudo de valores faltantes tanto na `df_abt_train` e `df_abt_oot`."
      ]
    },
    {
      "cell_type": "code",
      "execution_count": null,
      "metadata": {
        "id": "x6HOvAGxiCYn",
        "colab": {
          "base_uri": "https://localhost:8080/"
        },
        "outputId": "fc6c09d0-1073-49d7-8614-3080d20cdc69"
      },
      "outputs": [
        {
          "output_type": "stream",
          "name": "stdout",
          "text": [
            "<class 'pandas.core.frame.DataFrame'>\n",
            "Int64Index: 30079 entries, 0 to 30078\n",
            "Data columns (total 6 columns):\n",
            " #   Column            Non-Null Count  Dtype              \n",
            "---  ------            --------------  -----              \n",
            " 0   data_ref          30079 non-null  datetime64[ns, UTC]\n",
            " 1   customer_id       30079 non-null  object             \n",
            " 2   receita_1m        30079 non-null  float64            \n",
            " 3   qtd_pedidos_1m    30079 non-null  int64              \n",
            " 4   recencia          30079 non-null  int64              \n",
            " 5   churn_next_month  30079 non-null  object             \n",
            "dtypes: datetime64[ns, UTC](1), float64(1), int64(2), object(2)\n",
            "memory usage: 1.6+ MB\n",
            "<class 'pandas.core.frame.DataFrame'>\n",
            "Int64Index: 18441 entries, 0 to 18440\n",
            "Data columns (total 6 columns):\n",
            " #   Column            Non-Null Count  Dtype              \n",
            "---  ------            --------------  -----              \n",
            " 0   data_ref          18441 non-null  datetime64[ns, UTC]\n",
            " 1   customer_id       18441 non-null  object             \n",
            " 2   receita_1m        18441 non-null  float64            \n",
            " 3   qtd_pedidos_1m    18441 non-null  int64              \n",
            " 4   recencia          18441 non-null  int64              \n",
            " 5   churn_next_month  18441 non-null  object             \n",
            "dtypes: datetime64[ns, UTC](1), float64(1), int64(2), object(2)\n",
            "memory usage: 1008.5+ KB\n",
            "\n",
            "Análise: Tanto a ABT de treino como a ABT de Out of Time não possui valores \"missing\"\n",
            "É normal esta situação pelo fato destas bases ter sido tradas anteriormente com funções de agregação.\n"
          ]
        }
      ],
      "source": [
        "df_abt_train.info();\n",
        "df_abt_oot.info();\n",
        "\n",
        "print('\\nAnálise: Tanto a ABT de treino como a ABT de Out of Time não possui valores \"missing\"\\n' \\\n",
        "      'É normal esta situação pelo fato destas bases ter sido tradas anteriormente com funções de agregação.'\n",
        ")"
      ]
    },
    {
      "cell_type": "markdown",
      "metadata": {
        "id": "dFjcoR9bM-l1"
      },
      "source": [
        "<i>Análise:</i> Tanto a ABT de treino como a ABT de Out of Time não possui valores \"missing\"\n",
        "É normal esta situação pelo fato destas bases ter sido tradas anteriormente com funções de agregação."
      ]
    },
    {
      "cell_type": "markdown",
      "metadata": {
        "id": "hr2uef-jiF7O"
      },
      "source": [
        "**<span style=\"color:blue\">(1 ponto)</span> `Q14`**  Treine uma árvore de decisão na base de treino usando Stratified K-Fold e avalie utilizando a métrica **AUC** na base Out of Time.\n",
        "\n",
        "Utilize o parametro `random_state=42`.\n",
        "\n",
        "Lembre-se se instalar as bibliotecas necessárias (scikit-learn, feature-engine, etc).\n",
        "\n",
        "Utilize o método cross-val-score para avaliar os resultados da validação cruzada no conjunto de treino.\n",
        "\n",
        "Os seguintes passos devem estar contemplados:\n",
        "\n",
        "- Importar as bibliotecas necessárias\n",
        "- Criar as variáveis target, key_vars, num_vars, cat_vars, features\n",
        "- Criar X_train e y_train\n",
        "- Criar o pipeline (mesmo que utilize apenas 1 step)\n",
        "- Utilizar StratifiedKFold e salve na variável skf\n",
        "- Utilizar o cross_val_score\n",
        "- Calcular a média da AUC para todos os folds calculados no passo anterior\n",
        "- Criar X_oot e y_oot\n",
        "- \"Fit\" o pipeline criado\n",
        "- Calcular e predizer a probabilidade da classe 1 (y_proba) na OOT\n",
        "- Calcular a AUC score na OOT\n",
        "\n",
        "**ATENÇÃO: Parte dessas etapas se repetem para os próximos exercícios**"
      ]
    },
    {
      "cell_type": "code",
      "execution_count": null,
      "metadata": {
        "id": "iLXYLfOmiQyu",
        "colab": {
          "base_uri": "https://localhost:8080/"
        },
        "outputId": "f4ec235a-ac45-432e-abbe-22a5117bde20"
      },
      "outputs": [
        {
          "output_type": "stream",
          "name": "stdout",
          "text": [
            "Collecting feature-engine\n",
            "  Downloading feature_engine-1.3.0-py2.py3-none-any.whl (260 kB)\n",
            "\u001b[?25l\r\u001b[K     |█▎                              | 10 kB 16.8 MB/s eta 0:00:01\r\u001b[K     |██▌                             | 20 kB 22.6 MB/s eta 0:00:01\r\u001b[K     |███▊                            | 30 kB 21.2 MB/s eta 0:00:01\r\u001b[K     |█████                           | 40 kB 17.2 MB/s eta 0:00:01\r\u001b[K     |██████▎                         | 51 kB 13.0 MB/s eta 0:00:01\r\u001b[K     |███████▌                        | 61 kB 14.9 MB/s eta 0:00:01\r\u001b[K     |████████▉                       | 71 kB 15.0 MB/s eta 0:00:01\r\u001b[K     |██████████                      | 81 kB 14.1 MB/s eta 0:00:01\r\u001b[K     |███████████▎                    | 92 kB 15.4 MB/s eta 0:00:01\r\u001b[K     |████████████▋                   | 102 kB 15.6 MB/s eta 0:00:01\r\u001b[K     |█████████████▉                  | 112 kB 15.6 MB/s eta 0:00:01\r\u001b[K     |███████████████                 | 122 kB 15.6 MB/s eta 0:00:01\r\u001b[K     |████████████████▍               | 133 kB 15.6 MB/s eta 0:00:01\r\u001b[K     |█████████████████▋              | 143 kB 15.6 MB/s eta 0:00:01\r\u001b[K     |██████████████████▉             | 153 kB 15.6 MB/s eta 0:00:01\r\u001b[K     |████████████████████▏           | 163 kB 15.6 MB/s eta 0:00:01\r\u001b[K     |█████████████████████▍          | 174 kB 15.6 MB/s eta 0:00:01\r\u001b[K     |██████████████████████▋         | 184 kB 15.6 MB/s eta 0:00:01\r\u001b[K     |████████████████████████        | 194 kB 15.6 MB/s eta 0:00:01\r\u001b[K     |█████████████████████████▏      | 204 kB 15.6 MB/s eta 0:00:01\r\u001b[K     |██████████████████████████▍     | 215 kB 15.6 MB/s eta 0:00:01\r\u001b[K     |███████████████████████████▋    | 225 kB 15.6 MB/s eta 0:00:01\r\u001b[K     |█████████████████████████████   | 235 kB 15.6 MB/s eta 0:00:01\r\u001b[K     |██████████████████████████████▏ | 245 kB 15.6 MB/s eta 0:00:01\r\u001b[K     |███████████████████████████████▍| 256 kB 15.6 MB/s eta 0:00:01\r\u001b[K     |████████████████████████████████| 260 kB 15.6 MB/s \n",
            "\u001b[?25hRequirement already satisfied: scikit-learn>=1.0.0 in /usr/local/lib/python3.7/dist-packages (from feature-engine) (1.0.2)\n",
            "Requirement already satisfied: numpy>=1.18.2 in /usr/local/lib/python3.7/dist-packages (from feature-engine) (1.21.6)\n",
            "Requirement already satisfied: scipy>=1.4.1 in /usr/local/lib/python3.7/dist-packages (from feature-engine) (1.4.1)\n",
            "Requirement already satisfied: pandas>=1.0.3 in /usr/local/lib/python3.7/dist-packages (from feature-engine) (1.3.5)\n",
            "Collecting statsmodels>=0.11.1\n",
            "  Downloading statsmodels-0.13.2-cp37-cp37m-manylinux_2_17_x86_64.manylinux2014_x86_64.whl (9.8 MB)\n",
            "\u001b[K     |████████████████████████████████| 9.8 MB 45.3 MB/s \n",
            "\u001b[?25hRequirement already satisfied: python-dateutil>=2.7.3 in /usr/local/lib/python3.7/dist-packages (from pandas>=1.0.3->feature-engine) (2.8.2)\n",
            "Requirement already satisfied: pytz>=2017.3 in /usr/local/lib/python3.7/dist-packages (from pandas>=1.0.3->feature-engine) (2022.1)\n",
            "Requirement already satisfied: six>=1.5 in /usr/local/lib/python3.7/dist-packages (from python-dateutil>=2.7.3->pandas>=1.0.3->feature-engine) (1.15.0)\n",
            "Requirement already satisfied: threadpoolctl>=2.0.0 in /usr/local/lib/python3.7/dist-packages (from scikit-learn>=1.0.0->feature-engine) (3.1.0)\n",
            "Requirement already satisfied: joblib>=0.11 in /usr/local/lib/python3.7/dist-packages (from scikit-learn>=1.0.0->feature-engine) (1.1.0)\n",
            "Requirement already satisfied: packaging>=21.3 in /usr/local/lib/python3.7/dist-packages (from statsmodels>=0.11.1->feature-engine) (21.3)\n",
            "Requirement already satisfied: patsy>=0.5.2 in /usr/local/lib/python3.7/dist-packages (from statsmodels>=0.11.1->feature-engine) (0.5.2)\n",
            "Requirement already satisfied: pyparsing!=3.0.5,>=2.0.2 in /usr/local/lib/python3.7/dist-packages (from packaging>=21.3->statsmodels>=0.11.1->feature-engine) (3.0.8)\n",
            "Installing collected packages: statsmodels, feature-engine\n",
            "  Attempting uninstall: statsmodels\n",
            "    Found existing installation: statsmodels 0.10.2\n",
            "    Uninstalling statsmodels-0.10.2:\n",
            "      Successfully uninstalled statsmodels-0.10.2\n",
            "Successfully installed feature-engine-1.3.0 statsmodels-0.13.2\n",
            "Requirement already satisfied: feature-engine in /usr/local/lib/python3.7/dist-packages (1.3.0)\n",
            "Requirement already satisfied: lightgbm in /usr/local/lib/python3.7/dist-packages (2.2.3)\n",
            "Requirement already satisfied: xgboost in /usr/local/lib/python3.7/dist-packages (0.90)\n",
            "Collecting catboost==0.25.1\n",
            "  Downloading catboost-0.25.1-cp37-none-manylinux1_x86_64.whl (67.3 MB)\n",
            "\u001b[K     |████████████████████████████████| 67.3 MB 15 kB/s \n",
            "\u001b[?25hRequirement already satisfied: matplotlib in /usr/local/lib/python3.7/dist-packages (from catboost==0.25.1) (3.2.2)\n",
            "Requirement already satisfied: plotly in /usr/local/lib/python3.7/dist-packages (from catboost==0.25.1) (5.5.0)\n",
            "Requirement already satisfied: numpy>=1.16.0 in /usr/local/lib/python3.7/dist-packages (from catboost==0.25.1) (1.21.6)\n",
            "Requirement already satisfied: graphviz in /usr/local/lib/python3.7/dist-packages (from catboost==0.25.1) (0.10.1)\n",
            "Requirement already satisfied: six in /usr/local/lib/python3.7/dist-packages (from catboost==0.25.1) (1.15.0)\n",
            "Requirement already satisfied: pandas>=0.24.0 in /usr/local/lib/python3.7/dist-packages (from catboost==0.25.1) (1.3.5)\n",
            "Requirement already satisfied: scipy in /usr/local/lib/python3.7/dist-packages (from catboost==0.25.1) (1.4.1)\n",
            "Requirement already satisfied: python-dateutil>=2.7.3 in /usr/local/lib/python3.7/dist-packages (from pandas>=0.24.0->catboost==0.25.1) (2.8.2)\n",
            "Requirement already satisfied: pytz>=2017.3 in /usr/local/lib/python3.7/dist-packages (from pandas>=0.24.0->catboost==0.25.1) (2022.1)\n",
            "Requirement already satisfied: scikit-learn>=1.0.0 in /usr/local/lib/python3.7/dist-packages (from feature-engine) (1.0.2)\n",
            "Requirement already satisfied: statsmodels>=0.11.1 in /usr/local/lib/python3.7/dist-packages (from feature-engine) (0.13.2)\n",
            "Requirement already satisfied: joblib>=0.11 in /usr/local/lib/python3.7/dist-packages (from scikit-learn>=1.0.0->feature-engine) (1.1.0)\n",
            "Requirement already satisfied: threadpoolctl>=2.0.0 in /usr/local/lib/python3.7/dist-packages (from scikit-learn>=1.0.0->feature-engine) (3.1.0)\n",
            "Requirement already satisfied: packaging>=21.3 in /usr/local/lib/python3.7/dist-packages (from statsmodels>=0.11.1->feature-engine) (21.3)\n",
            "Requirement already satisfied: patsy>=0.5.2 in /usr/local/lib/python3.7/dist-packages (from statsmodels>=0.11.1->feature-engine) (0.5.2)\n",
            "Requirement already satisfied: pyparsing!=3.0.5,>=2.0.2 in /usr/local/lib/python3.7/dist-packages (from packaging>=21.3->statsmodels>=0.11.1->feature-engine) (3.0.8)\n",
            "Requirement already satisfied: kiwisolver>=1.0.1 in /usr/local/lib/python3.7/dist-packages (from matplotlib->catboost==0.25.1) (1.4.2)\n",
            "Requirement already satisfied: cycler>=0.10 in /usr/local/lib/python3.7/dist-packages (from matplotlib->catboost==0.25.1) (0.11.0)\n",
            "Requirement already satisfied: typing-extensions in /usr/local/lib/python3.7/dist-packages (from kiwisolver>=1.0.1->matplotlib->catboost==0.25.1) (4.2.0)\n",
            "Requirement already satisfied: tenacity>=6.2.0 in /usr/local/lib/python3.7/dist-packages (from plotly->catboost==0.25.1) (8.0.1)\n",
            "Installing collected packages: catboost\n",
            "Successfully installed catboost-0.25.1\n",
            "Requirement already satisfied: lightgbm in /usr/local/lib/python3.7/dist-packages (2.2.3)\n",
            "Requirement already satisfied: scikit-learn in /usr/local/lib/python3.7/dist-packages (from lightgbm) (1.0.2)\n",
            "Requirement already satisfied: scipy in /usr/local/lib/python3.7/dist-packages (from lightgbm) (1.4.1)\n",
            "Requirement already satisfied: numpy in /usr/local/lib/python3.7/dist-packages (from lightgbm) (1.21.6)\n",
            "Requirement already satisfied: joblib>=0.11 in /usr/local/lib/python3.7/dist-packages (from scikit-learn->lightgbm) (1.1.0)\n",
            "Requirement already satisfied: threadpoolctl>=2.0.0 in /usr/local/lib/python3.7/dist-packages (from scikit-learn->lightgbm) (3.1.0)\n"
          ]
        }
      ],
      "source": [
        "# Importação de Bibliotecas\n",
        "!pip install feature-engine\n",
        "!pip install feature-engine lightgbm xgboost catboost==0.25.1\n",
        "\n",
        "from sklearn.model_selection import cross_validate\n",
        "from sklearn.model_selection import StratifiedKFold\n",
        "from sklearn.tree import DecisionTreeClassifier\n",
        "from feature_engine.imputation import ArbitraryNumberImputer, MeanMedianImputer\n",
        "from sklearn.ensemble import RandomForestClassifier, GradientBoostingClassifier\n",
        "from xgboost import XGBClassifier\n",
        "from lightgbm import LGBMClassifier\n",
        "from catboost import CatBoostClassifier\n",
        "from sklearn.pipeline import Pipeline\n",
        "from sklearn.metrics import roc_auc_score\n",
        "from sklearn.model_selection import cross_val_score\n",
        "\n",
        "#LightGDM\n",
        "!pip install lightgbm\n",
        "from lightgbm import LGBMClassifier\n",
        "from sklearn.model_selection import GridSearchCV\n"
      ]
    },
    {
      "cell_type": "code",
      "source": [
        "# Criação das variáveis\n",
        "key_vars = ['data_ref', 'customer_id']\n",
        "num_vars = ['receita_1m', 'qtd_pedidos_1m', 'recencia']\n",
        "cat_vars = [] # Não tem variáveis categórias\n",
        "target = 'churn_next_month'\n",
        "features = cat_vars + num_vars\n",
        "\n",
        "# sobre os dados de Junho/2019\n",
        "X_train = df_abt_train[features]\n",
        "y_train = df_abt_train[target]\n",
        "\n",
        "# sobre os dados de Agosto/2019\n",
        "X_oot = df_abt_oot[features]\n",
        "y_oot = df_abt_oot[target]\n",
        "\n",
        "random_state = 42\n",
        "\n",
        "steps_modelos_arvores = [\n",
        "    ('numeric_imputer', MeanMedianImputer(variables=num_vars, imputation_method='median'))\n",
        "]"
      ],
      "metadata": {
        "id": "4HtwEXIfhWmx"
      },
      "execution_count": null,
      "outputs": []
    },
    {
      "cell_type": "code",
      "source": [
        "# Utilizar StratifiedKFold e salve na variável skf\n",
        "skf = StratifiedKFold(n_splits=5, shuffle=True, random_state=random_state)\n",
        "\n",
        "lista_modelo = [\n",
        "        ('decision_tree', DecisionTreeClassifier(random_state=random_state))\n",
        "      ]\n",
        "\n",
        "# \"Fitar\" Modelo\n",
        "pipeline = Pipeline(steps=steps_modelos_arvores + [lista_modelo[-1]])\n",
        "pipeline.fit(X_train, y_train)\n",
        "\n",
        "# Utilizar o cross_val_score\n",
        "cv_results = cross_val_score(pipeline, X_train, y_train, scoring='roc_auc', cv=skf, n_jobs=-1)\n",
        "print(f'decision_tree: A médias dos Folds é {cv_results.mean()}')\n",
        "\n",
        "# Base Out of Time\n",
        "y_proba_oot = pipeline.predict_proba(X_oot)[:, 1]\n",
        "print(f'decision_tree: Performance do modelo na Out of Time com o uso da AUC: {roc_auc_score(y_oot, y_proba_oot)}')"
      ],
      "metadata": {
        "id": "rQdHV9MmheXP",
        "colab": {
          "base_uri": "https://localhost:8080/"
        },
        "outputId": "ec65de60-3127-43c3-a58d-c6e0c9a1f253"
      },
      "execution_count": null,
      "outputs": [
        {
          "output_type": "stream",
          "name": "stdout",
          "text": [
            "decision_tree: A médias dos Folds é 0.6147471340887323\n",
            "decision_tree: Performance do modelo na Out of Time com o uso da AUC: 0.5942238945608709\n"
          ]
        }
      ]
    },
    {
      "cell_type": "markdown",
      "metadata": {
        "id": "vFXJ1dFPiRcC"
      },
      "source": [
        "**<span style=\"color:blue\">(1 ponto)</span> `Q15`** Treine uma Random Forest na base de treino usando Stratified K-Fold e avalie utilizando a métrica **AUC** na base Out of Time.\n",
        "\n",
        "Utilize o parametro `random_state=42`\n",
        "\n",
        "**ATENÇÃO: Utilize as variáveis criadas anteriormente (X_train, y_train, X_oot, y_oot, skf)**"
      ]
    },
    {
      "cell_type": "code",
      "execution_count": null,
      "metadata": {
        "id": "zAV1WXFGijB2",
        "colab": {
          "base_uri": "https://localhost:8080/"
        },
        "outputId": "1d01a52c-712e-4f41-aa9c-31a61d210169"
      },
      "outputs": [
        {
          "output_type": "stream",
          "name": "stdout",
          "text": [
            "random_forest: Performance do modelo na Out of Time com o uso da AUC: 0.663481166176368\n"
          ]
        }
      ],
      "source": [
        "# Utilizar StratifiedKFold e salve na variável skf\n",
        "skf = StratifiedKFold(n_splits=5, shuffle=True, random_state=random_state)\n",
        "\n",
        "lista_modelo = [\n",
        "         ('random_forest', RandomForestClassifier(random_state=random_state)),\n",
        "      ]\n",
        "\n",
        "# \"Fitar\" Modelo\n",
        "pipeline = Pipeline(steps=steps_modelos_arvores + [lista_modelo[-1]])\n",
        "pipeline.fit(X_train, y_train)\n",
        "\n",
        "# Utilizar o cross_val_score\n",
        "# cv_results = cross_val_score(pipeline, X_train, y_train, scoring='roc_auc', cv=skf, n_jobs=-1)\n",
        "# print(f'random_forest: A médias dos Folds é {cv_results.mean()}')\n",
        "\n",
        "# Base Out of Time\n",
        "y_proba_oot = pipeline.predict_proba(X_oot)[:, 1]\n",
        "print(f'random_forest: Performance do modelo na Out of Time com o uso da AUC: {roc_auc_score(y_oot, y_proba_oot)}')"
      ]
    },
    {
      "cell_type": "markdown",
      "metadata": {
        "id": "pIM4_-_RijQ5"
      },
      "source": [
        "**<span style=\"color:blue\">(1 ponto)</span> `Q16`** Treine um LGBM na base de treino usando Stratified K-Fold e avalie utilizando a métrica **AUC** na base Out of Time.\n",
        "\n",
        "Utilize o parametro `random_state=42`\n",
        "\n",
        "**ATENÇÃO: Utilize as variáveis criadas anteriormente (X_train, y_train, X_oot, y_oot, skf)**"
      ]
    },
    {
      "cell_type": "code",
      "execution_count": null,
      "metadata": {
        "id": "XhHJ7dfpisUr",
        "colab": {
          "base_uri": "https://localhost:8080/"
        },
        "outputId": "8735def7-f1e3-4208-dca7-904940759717"
      },
      "outputs": [
        {
          "output_type": "stream",
          "name": "stdout",
          "text": [
            "lgbm: Performance do modelo na Out of Time com o uso da AUC: 0.7330607764614375\n"
          ]
        }
      ],
      "source": [
        "# Utilizar StratifiedKFold e salve na variável skf\n",
        "skf = StratifiedKFold(n_splits=5, shuffle=True, random_state=random_state)\n",
        "\n",
        "lista_modelo = [\n",
        "         ('lgbm', LGBMClassifier(random_state=random_state)),\n",
        "      ]\n",
        "\n",
        "# \"Fitar\" Modelo\n",
        "pipeline_lgbm = Pipeline(steps=steps_modelos_arvores + [lista_modelo[-1]])\n",
        "pipeline_lgbm.fit(X_train, y_train)\n",
        "\n",
        "# Utilizar o cross_val_score\n",
        "# cv_results = cross_val_score(pipeline, X_train, y_train, scoring='roc_auc', cv=skf, n_jobs=-1)\n",
        "# print(f'lgbm: A médias dos Folds é {cv_results.mean()}')\n",
        "\n",
        "# Base Out of Time\n",
        "y_proba_oot = pipeline_lgbm.predict_proba(X_oot)[:, 1]\n",
        "print(f'lgbm: Performance do modelo na Out of Time com o uso da AUC: {roc_auc_score(y_oot, y_proba_oot)}')"
      ]
    },
    {
      "cell_type": "markdown",
      "metadata": {
        "id": "vza9yD9jisyv"
      },
      "source": [
        "**<span style=\"color:blue\">(1 ponto)</span> `Q17`** Para o melhor algoritmo dos 3 treinados anteriormente (lightgbm), faça um GridSearchCV para encontrar um conjunto de hiperparâmetros mais otimizado (lembre de otimizar a **AUC**).\n",
        "\n",
        "Utilize os seguintes hiperparâmetros:\n",
        "\n",
        "    'lgbm__max_depth': [3, 5, 7, 9],\n",
        "    'lgbm__learning_rate': [0.01, 0.015, 0.025, 0.05, 0.1],\n",
        "    'lgbm__n_estimators': [100, 300, 500]\n",
        "\n",
        "\n",
        "**ATENÇÃO: Utilize as variáveis criadas anteriormente (X_train, y_train, X_oot, y_oot, skf)**\n",
        "\n",
        "**ATENÇÃO: Utilize o pipeline já criado para o algoritmo LightGBM**"
      ]
    },
    {
      "cell_type": "code",
      "execution_count": null,
      "metadata": {
        "id": "TinILsaTi5hd",
        "colab": {
          "base_uri": "https://localhost:8080/"
        },
        "outputId": "e0e6baec-bf07-4589-a3b2-f1bc17f0d12e"
      },
      "outputs": [
        {
          "output_type": "stream",
          "name": "stdout",
          "text": [
            "Fitting 5 folds for each of 60 candidates, totalling 300 fits\n"
          ]
        },
        {
          "output_type": "execute_result",
          "data": {
            "text/plain": [
              "GridSearchCV(cv=StratifiedKFold(n_splits=5, random_state=42, shuffle=True),\n",
              "             estimator=Pipeline(steps=[('numeric_imputer',\n",
              "                                        MeanMedianImputer(variables=['receita_1m',\n",
              "                                                                     'qtd_pedidos_1m',\n",
              "                                                                     'recencia'])),\n",
              "                                       ('lgbm',\n",
              "                                        LGBMClassifier(random_state=42))]),\n",
              "             n_jobs=-1,\n",
              "             param_grid={'lgbm__learning_rate': [0.01, 0.015, 0.025, 0.05, 0.1],\n",
              "                         'lgbm__max_depth': [3, 5, 7, 9],\n",
              "                         'lgbm__n_estimators': [100, 300, 500]},\n",
              "             scoring='roc_auc', verbose=1)"
            ]
          },
          "metadata": {},
          "execution_count": 23
        }
      ],
      "source": [
        "# O melhor algoritmo foi o LGBM, logo iremos fazer um grid search para ele\n",
        "parametros = {\n",
        "    'lgbm__max_depth': [3, 5, 7, 9],\n",
        "    'lgbm__learning_rate': [0.01, 0.015, 0.025, 0.05, 0.1],\n",
        "    'lgbm__n_estimators': [100, 300, 500]\n",
        "    }\n",
        "\n",
        "grid_search = GridSearchCV(pipeline_lgbm, parametros, scoring='roc_auc', cv=skf, n_jobs=-1, verbose=1)\n",
        "grid_search.fit(X_train, y_train)"
      ]
    },
    {
      "cell_type": "code",
      "execution_count": null,
      "metadata": {
        "id": "BNIFDsIahHSk",
        "colab": {
          "base_uri": "https://localhost:8080/"
        },
        "outputId": "ba5b5ab7-fcf1-452f-f46d-fced635ec8c5"
      },
      "outputs": [
        {
          "output_type": "stream",
          "name": "stdout",
          "text": [
            "O melhor Score é 0.7569120124999488\n"
          ]
        }
      ],
      "source": [
        "print(f'O melhor Score é {grid_search.best_score_}')"
      ]
    },
    {
      "cell_type": "code",
      "execution_count": null,
      "metadata": {
        "id": "PcyP8pXzsbDe",
        "colab": {
          "base_uri": "https://localhost:8080/"
        },
        "outputId": "a01be18e-7d84-48be-82f6-0edb84ab6c8e"
      },
      "outputs": [
        {
          "output_type": "stream",
          "name": "stdout",
          "text": [
            "Os melhores hiperparâmetros são: {'lgbm__learning_rate': 0.05, 'lgbm__max_depth': 3, 'lgbm__n_estimators': 100}\n"
          ]
        }
      ],
      "source": [
        "# Recupere os hiperparâmetros\n",
        "print(f'Os melhores hiperparâmetros são: {grid_search.best_params_}')\n"
      ]
    },
    {
      "cell_type": "code",
      "execution_count": null,
      "metadata": {
        "id": "C8Nnc0tkLWoA",
        "colab": {
          "base_uri": "https://localhost:8080/"
        },
        "outputId": "86c2d311-45ec-4447-f27b-eb4f49c211aa"
      },
      "outputs": [
        {
          "output_type": "stream",
          "name": "stdout",
          "text": [
            "lgbm: Performance do modelo na Out of Time com o uso da AUC: 0.7372138323518183\n"
          ]
        }
      ],
      "source": [
        "# Avalei o desempenho do melhor modelo no grid search na base OOT\n",
        "melhor_modelo = grid_search.best_estimator_\n",
        "\n",
        "y_proba_oot = melhor_modelo.predict_proba(X_oot)[:, 1]\n",
        "roc_auc_score_teste1 = roc_auc_score(y_oot, y_proba_oot)\n",
        "\n",
        "print(f'lgbm: Performance do modelo na Out of Time com o uso da AUC: {roc_auc_score_teste1}')"
      ]
    },
    {
      "cell_type": "code",
      "source": [
        "# Crie a variável best_model e salve o melhor estimador do grid_search nessa variável\n",
        "best_model = grid_search.best_estimator_"
      ],
      "metadata": {
        "id": "OifA68P-kftd"
      },
      "execution_count": null,
      "outputs": []
    },
    {
      "cell_type": "code",
      "source": [
        "# Treine o melhor estimador (best_model)\n",
        "best_model.fit(X_train, y_train)"
      ],
      "metadata": {
        "id": "NPrjwOEOkgwN",
        "colab": {
          "base_uri": "https://localhost:8080/"
        },
        "outputId": "cd8a01cc-29af-4951-fb15-b38f32ef1b93"
      },
      "execution_count": null,
      "outputs": [
        {
          "output_type": "execute_result",
          "data": {
            "text/plain": [
              "Pipeline(steps=[('numeric_imputer',\n",
              "                 MeanMedianImputer(variables=['receita_1m', 'qtd_pedidos_1m',\n",
              "                                              'recencia'])),\n",
              "                ('lgbm',\n",
              "                 LGBMClassifier(learning_rate=0.05, max_depth=3,\n",
              "                                random_state=42))])"
            ]
          },
          "metadata": {},
          "execution_count": 28
        }
      ]
    },
    {
      "cell_type": "code",
      "source": [
        "# Calcule a probabilidade da classe 1 para a base OOT\n",
        "y_proba_oot = best_model.predict_proba(X_oot)[:, 1]"
      ],
      "metadata": {
        "id": "HckyY14MkjMF"
      },
      "execution_count": null,
      "outputs": []
    },
    {
      "cell_type": "code",
      "source": [
        "# Imprima a AUC\n",
        "print(f'lgbm: Performance do modelo na Out of Time com o uso da AUC: {roc_auc_score(y_oot, y_proba_oot)}')"
      ],
      "metadata": {
        "id": "rA3VWYvIkmCF",
        "colab": {
          "base_uri": "https://localhost:8080/"
        },
        "outputId": "dd1decf0-3e4b-4c47-affb-ffd1701aefff"
      },
      "execution_count": null,
      "outputs": [
        {
          "output_type": "stream",
          "name": "stdout",
          "text": [
            "lgbm: Performance do modelo na Out of Time com o uso da AUC: 0.7372138323518183\n"
          ]
        }
      ]
    },
    {
      "cell_type": "markdown",
      "metadata": {
        "id": "4egl5FzCL4nP"
      },
      "source": [
        "Melhoramos a nossa performance com um grid search bem simples! Muito bom!\n",
        "\n",
        "Talvez ainda haja espaço para melhorias no desempenho do modelo. Lembrando que temos apenas 3 variáveis: `receita_1m`, `qtd_pedidos_1m` e `recencia`.\n",
        "\n",
        "Vamos utilizar a variável `order_shift` para criar mais 10 features para verificar se isso irá ajudar o modelo de Machine Learning a predizer qual cliente irá dar **churn**."
      ]
    },
    {
      "cell_type": "markdown",
      "metadata": {
        "id": "PmNoUI7hi7to"
      },
      "source": [
        "**<span style=\"color:blue\">(1 ponto)</span> `Q18`** Utilize o método `pd.crosstab` com o parâmetro `normalize='index'` nas colunas `customer_id` e `order_shift`. Lembre-se de resetar o indíce.\n",
        "\n",
        "Salve o resultado no DataFrame `df_customer_order_shift_train`.\n",
        "\n",
        "Imprima os 5 primeiros elementos desse DataFrame."
      ]
    },
    {
      "cell_type": "code",
      "execution_count": null,
      "metadata": {
        "id": "M4pG2T81rUI0",
        "colab": {
          "base_uri": "https://localhost:8080/",
          "height": 206
        },
        "outputId": "a54922df-1f6f-46f0-fe48-95338646d783"
      },
      "outputs": [
        {
          "output_type": "execute_result",
          "data": {
            "text/plain": [
              "order_shift                                        customer_id  \\\n",
              "0            0001a8e61d8b08ad436e8e6f4adeb399b88df962c72d9d...   \n",
              "1            0001a9f97d01d2696cf70c7657ee2d039388d691720ff9...   \n",
              "2            0004720dc16aed1f98fd79f59736170e0d686199cd9ae5...   \n",
              "3            0006a32816a3af172048de7db87c97c4c8c7ad7e6385fa...   \n",
              "4            00081913eb21cd12aecc831bda704f8c6482723b55e664...   \n",
              "\n",
              "order_shift  weekday breakfast  weekday dawn  weekday dinner  weekday lunch  \\\n",
              "0                          0.0           0.0        0.166667            0.0   \n",
              "1                          0.0           0.0        0.333333            0.5   \n",
              "2                          0.0           0.0        0.000000            0.0   \n",
              "3                          0.0           0.0        0.000000            0.0   \n",
              "4                          0.0           0.0        0.333333            0.0   \n",
              "\n",
              "order_shift  weekday snack  weekend breakfast  weekend dawn  weekend dinner  \\\n",
              "0                      0.0                0.0           0.0        0.666667   \n",
              "1                      0.0                0.0           0.0        0.000000   \n",
              "2                      0.0                0.0           0.0        0.571429   \n",
              "3                      0.0                0.0           0.5        0.500000   \n",
              "4                      0.0                0.0           0.0        0.666667   \n",
              "\n",
              "order_shift  weekend lunch  weekend snack  \n",
              "0                 0.166667            0.0  \n",
              "1                 0.166667            0.0  \n",
              "2                 0.428571            0.0  \n",
              "3                 0.000000            0.0  \n",
              "4                 0.000000            0.0  "
            ],
            "text/html": [
              "\n",
              "  <div id=\"df-67b3051c-6972-4220-805b-240f37710a3b\">\n",
              "    <div class=\"colab-df-container\">\n",
              "      <div>\n",
              "<style scoped>\n",
              "    .dataframe tbody tr th:only-of-type {\n",
              "        vertical-align: middle;\n",
              "    }\n",
              "\n",
              "    .dataframe tbody tr th {\n",
              "        vertical-align: top;\n",
              "    }\n",
              "\n",
              "    .dataframe thead th {\n",
              "        text-align: right;\n",
              "    }\n",
              "</style>\n",
              "<table border=\"1\" class=\"dataframe\">\n",
              "  <thead>\n",
              "    <tr style=\"text-align: right;\">\n",
              "      <th>order_shift</th>\n",
              "      <th>customer_id</th>\n",
              "      <th>weekday breakfast</th>\n",
              "      <th>weekday dawn</th>\n",
              "      <th>weekday dinner</th>\n",
              "      <th>weekday lunch</th>\n",
              "      <th>weekday snack</th>\n",
              "      <th>weekend breakfast</th>\n",
              "      <th>weekend dawn</th>\n",
              "      <th>weekend dinner</th>\n",
              "      <th>weekend lunch</th>\n",
              "      <th>weekend snack</th>\n",
              "    </tr>\n",
              "  </thead>\n",
              "  <tbody>\n",
              "    <tr>\n",
              "      <th>0</th>\n",
              "      <td>0001a8e61d8b08ad436e8e6f4adeb399b88df962c72d9d...</td>\n",
              "      <td>0.0</td>\n",
              "      <td>0.0</td>\n",
              "      <td>0.166667</td>\n",
              "      <td>0.0</td>\n",
              "      <td>0.0</td>\n",
              "      <td>0.0</td>\n",
              "      <td>0.0</td>\n",
              "      <td>0.666667</td>\n",
              "      <td>0.166667</td>\n",
              "      <td>0.0</td>\n",
              "    </tr>\n",
              "    <tr>\n",
              "      <th>1</th>\n",
              "      <td>0001a9f97d01d2696cf70c7657ee2d039388d691720ff9...</td>\n",
              "      <td>0.0</td>\n",
              "      <td>0.0</td>\n",
              "      <td>0.333333</td>\n",
              "      <td>0.5</td>\n",
              "      <td>0.0</td>\n",
              "      <td>0.0</td>\n",
              "      <td>0.0</td>\n",
              "      <td>0.000000</td>\n",
              "      <td>0.166667</td>\n",
              "      <td>0.0</td>\n",
              "    </tr>\n",
              "    <tr>\n",
              "      <th>2</th>\n",
              "      <td>0004720dc16aed1f98fd79f59736170e0d686199cd9ae5...</td>\n",
              "      <td>0.0</td>\n",
              "      <td>0.0</td>\n",
              "      <td>0.000000</td>\n",
              "      <td>0.0</td>\n",
              "      <td>0.0</td>\n",
              "      <td>0.0</td>\n",
              "      <td>0.0</td>\n",
              "      <td>0.571429</td>\n",
              "      <td>0.428571</td>\n",
              "      <td>0.0</td>\n",
              "    </tr>\n",
              "    <tr>\n",
              "      <th>3</th>\n",
              "      <td>0006a32816a3af172048de7db87c97c4c8c7ad7e6385fa...</td>\n",
              "      <td>0.0</td>\n",
              "      <td>0.0</td>\n",
              "      <td>0.000000</td>\n",
              "      <td>0.0</td>\n",
              "      <td>0.0</td>\n",
              "      <td>0.0</td>\n",
              "      <td>0.5</td>\n",
              "      <td>0.500000</td>\n",
              "      <td>0.000000</td>\n",
              "      <td>0.0</td>\n",
              "    </tr>\n",
              "    <tr>\n",
              "      <th>4</th>\n",
              "      <td>00081913eb21cd12aecc831bda704f8c6482723b55e664...</td>\n",
              "      <td>0.0</td>\n",
              "      <td>0.0</td>\n",
              "      <td>0.333333</td>\n",
              "      <td>0.0</td>\n",
              "      <td>0.0</td>\n",
              "      <td>0.0</td>\n",
              "      <td>0.0</td>\n",
              "      <td>0.666667</td>\n",
              "      <td>0.000000</td>\n",
              "      <td>0.0</td>\n",
              "    </tr>\n",
              "  </tbody>\n",
              "</table>\n",
              "</div>\n",
              "      <button class=\"colab-df-convert\" onclick=\"convertToInteractive('df-67b3051c-6972-4220-805b-240f37710a3b')\"\n",
              "              title=\"Convert this dataframe to an interactive table.\"\n",
              "              style=\"display:none;\">\n",
              "        \n",
              "  <svg xmlns=\"http://www.w3.org/2000/svg\" height=\"24px\"viewBox=\"0 0 24 24\"\n",
              "       width=\"24px\">\n",
              "    <path d=\"M0 0h24v24H0V0z\" fill=\"none\"/>\n",
              "    <path d=\"M18.56 5.44l.94 2.06.94-2.06 2.06-.94-2.06-.94-.94-2.06-.94 2.06-2.06.94zm-11 1L8.5 8.5l.94-2.06 2.06-.94-2.06-.94L8.5 2.5l-.94 2.06-2.06.94zm10 10l.94 2.06.94-2.06 2.06-.94-2.06-.94-.94-2.06-.94 2.06-2.06.94z\"/><path d=\"M17.41 7.96l-1.37-1.37c-.4-.4-.92-.59-1.43-.59-.52 0-1.04.2-1.43.59L10.3 9.45l-7.72 7.72c-.78.78-.78 2.05 0 2.83L4 21.41c.39.39.9.59 1.41.59.51 0 1.02-.2 1.41-.59l7.78-7.78 2.81-2.81c.8-.78.8-2.07 0-2.86zM5.41 20L4 18.59l7.72-7.72 1.47 1.35L5.41 20z\"/>\n",
              "  </svg>\n",
              "      </button>\n",
              "      \n",
              "  <style>\n",
              "    .colab-df-container {\n",
              "      display:flex;\n",
              "      flex-wrap:wrap;\n",
              "      gap: 12px;\n",
              "    }\n",
              "\n",
              "    .colab-df-convert {\n",
              "      background-color: #E8F0FE;\n",
              "      border: none;\n",
              "      border-radius: 50%;\n",
              "      cursor: pointer;\n",
              "      display: none;\n",
              "      fill: #1967D2;\n",
              "      height: 32px;\n",
              "      padding: 0 0 0 0;\n",
              "      width: 32px;\n",
              "    }\n",
              "\n",
              "    .colab-df-convert:hover {\n",
              "      background-color: #E2EBFA;\n",
              "      box-shadow: 0px 1px 2px rgba(60, 64, 67, 0.3), 0px 1px 3px 1px rgba(60, 64, 67, 0.15);\n",
              "      fill: #174EA6;\n",
              "    }\n",
              "\n",
              "    [theme=dark] .colab-df-convert {\n",
              "      background-color: #3B4455;\n",
              "      fill: #D2E3FC;\n",
              "    }\n",
              "\n",
              "    [theme=dark] .colab-df-convert:hover {\n",
              "      background-color: #434B5C;\n",
              "      box-shadow: 0px 1px 3px 1px rgba(0, 0, 0, 0.15);\n",
              "      filter: drop-shadow(0px 1px 2px rgba(0, 0, 0, 0.3));\n",
              "      fill: #FFFFFF;\n",
              "    }\n",
              "  </style>\n",
              "\n",
              "      <script>\n",
              "        const buttonEl =\n",
              "          document.querySelector('#df-67b3051c-6972-4220-805b-240f37710a3b button.colab-df-convert');\n",
              "        buttonEl.style.display =\n",
              "          google.colab.kernel.accessAllowed ? 'block' : 'none';\n",
              "\n",
              "        async function convertToInteractive(key) {\n",
              "          const element = document.querySelector('#df-67b3051c-6972-4220-805b-240f37710a3b');\n",
              "          const dataTable =\n",
              "            await google.colab.kernel.invokeFunction('convertToInteractive',\n",
              "                                                     [key], {});\n",
              "          if (!dataTable) return;\n",
              "\n",
              "          const docLinkHtml = 'Like what you see? Visit the ' +\n",
              "            '<a target=\"_blank\" href=https://colab.research.google.com/notebooks/data_table.ipynb>data table notebook</a>'\n",
              "            + ' to learn more about interactive tables.';\n",
              "          element.innerHTML = '';\n",
              "          dataTable['output_type'] = 'display_data';\n",
              "          await google.colab.output.renderOutput(dataTable, element);\n",
              "          const docLink = document.createElement('div');\n",
              "          docLink.innerHTML = docLinkHtml;\n",
              "          element.appendChild(docLink);\n",
              "        }\n",
              "      </script>\n",
              "    </div>\n",
              "  </div>\n",
              "  "
            ]
          },
          "metadata": {},
          "execution_count": 31
        }
      ],
      "source": [
        "df_customer_order_shift_train = (\n",
        "    pd.crosstab(index=df_orders[\"customer_id\"], columns=df_orders[\"order_shift\"], normalize='index')\n",
        "    .reset_index()\n",
        ")\n",
        "\n",
        "df_customer_order_shift_train.head(5)"
      ]
    },
    {
      "cell_type": "markdown",
      "metadata": {
        "id": "iMve7nEqzUSD"
      },
      "source": [
        "**<span style=\"color:blue\">(1 ponto)</span> `Q19`** Faça o merge com a `df_abt_train` com os seguintes parâmetros:\n",
        "\n",
        "- `how='left'`\n",
        "- `on='customer_id'`\n",
        "\n",
        "Salve o DataFrame resultante na mesma variável `df_abt_train`.\n",
        "\n",
        "Imprima as 5 primeiras linhas."
      ]
    },
    {
      "cell_type": "code",
      "execution_count": null,
      "metadata": {
        "id": "3gOehYxl1OEk",
        "colab": {
          "base_uri": "https://localhost:8080/",
          "height": 354
        },
        "outputId": "3ca0ea0d-9463-4515-cb49-cdc3c2e8a252"
      },
      "outputs": [
        {
          "output_type": "execute_result",
          "data": {
            "text/plain": [
              "                                         customer_id  weekday breakfast  \\\n",
              "0  0001a8e61d8b08ad436e8e6f4adeb399b88df962c72d9d...                0.0   \n",
              "1  0001a9f97d01d2696cf70c7657ee2d039388d691720ff9...                0.0   \n",
              "2  0004720dc16aed1f98fd79f59736170e0d686199cd9ae5...                0.0   \n",
              "3  0006a32816a3af172048de7db87c97c4c8c7ad7e6385fa...                0.0   \n",
              "4  00081913eb21cd12aecc831bda704f8c6482723b55e664...                0.0   \n",
              "\n",
              "   weekday dawn  weekday dinner  weekday lunch  weekday snack  \\\n",
              "0           0.0        0.166667            0.0            0.0   \n",
              "1           0.0        0.333333            0.5            0.0   \n",
              "2           0.0        0.000000            0.0            0.0   \n",
              "3           0.0        0.000000            0.0            0.0   \n",
              "4           0.0        0.333333            0.0            0.0   \n",
              "\n",
              "   weekend breakfast  weekend dawn  weekend dinner  weekend lunch  \\\n",
              "0                0.0           0.0        0.666667       0.166667   \n",
              "1                0.0           0.0        0.000000       0.166667   \n",
              "2                0.0           0.0        0.571429       0.428571   \n",
              "3                0.0           0.5        0.500000       0.000000   \n",
              "4                0.0           0.0        0.666667       0.000000   \n",
              "\n",
              "   weekend snack                  data_ref  receita_1m  qtd_pedidos_1m  \\\n",
              "0            0.0 2019-07-01 00:00:00+00:00       102.0               2   \n",
              "1            0.0 2019-07-01 00:00:00+00:00        52.0               1   \n",
              "2            0.0 2019-07-01 00:00:00+00:00        59.3               1   \n",
              "3            0.0 2019-07-01 00:00:00+00:00        95.2               2   \n",
              "4            0.0 2019-07-01 00:00:00+00:00        27.0               1   \n",
              "\n",
              "   recencia churn_next_month  \n",
              "0        15                1  \n",
              "1        19                1  \n",
              "2        29                1  \n",
              "3         1                1  \n",
              "4        13                1  "
            ],
            "text/html": [
              "\n",
              "  <div id=\"df-b30782d7-e2f7-49ee-9c57-99513458aaae\">\n",
              "    <div class=\"colab-df-container\">\n",
              "      <div>\n",
              "<style scoped>\n",
              "    .dataframe tbody tr th:only-of-type {\n",
              "        vertical-align: middle;\n",
              "    }\n",
              "\n",
              "    .dataframe tbody tr th {\n",
              "        vertical-align: top;\n",
              "    }\n",
              "\n",
              "    .dataframe thead th {\n",
              "        text-align: right;\n",
              "    }\n",
              "</style>\n",
              "<table border=\"1\" class=\"dataframe\">\n",
              "  <thead>\n",
              "    <tr style=\"text-align: right;\">\n",
              "      <th></th>\n",
              "      <th>customer_id</th>\n",
              "      <th>weekday breakfast</th>\n",
              "      <th>weekday dawn</th>\n",
              "      <th>weekday dinner</th>\n",
              "      <th>weekday lunch</th>\n",
              "      <th>weekday snack</th>\n",
              "      <th>weekend breakfast</th>\n",
              "      <th>weekend dawn</th>\n",
              "      <th>weekend dinner</th>\n",
              "      <th>weekend lunch</th>\n",
              "      <th>weekend snack</th>\n",
              "      <th>data_ref</th>\n",
              "      <th>receita_1m</th>\n",
              "      <th>qtd_pedidos_1m</th>\n",
              "      <th>recencia</th>\n",
              "      <th>churn_next_month</th>\n",
              "    </tr>\n",
              "  </thead>\n",
              "  <tbody>\n",
              "    <tr>\n",
              "      <th>0</th>\n",
              "      <td>0001a8e61d8b08ad436e8e6f4adeb399b88df962c72d9d...</td>\n",
              "      <td>0.0</td>\n",
              "      <td>0.0</td>\n",
              "      <td>0.166667</td>\n",
              "      <td>0.0</td>\n",
              "      <td>0.0</td>\n",
              "      <td>0.0</td>\n",
              "      <td>0.0</td>\n",
              "      <td>0.666667</td>\n",
              "      <td>0.166667</td>\n",
              "      <td>0.0</td>\n",
              "      <td>2019-07-01 00:00:00+00:00</td>\n",
              "      <td>102.0</td>\n",
              "      <td>2</td>\n",
              "      <td>15</td>\n",
              "      <td>1</td>\n",
              "    </tr>\n",
              "    <tr>\n",
              "      <th>1</th>\n",
              "      <td>0001a9f97d01d2696cf70c7657ee2d039388d691720ff9...</td>\n",
              "      <td>0.0</td>\n",
              "      <td>0.0</td>\n",
              "      <td>0.333333</td>\n",
              "      <td>0.5</td>\n",
              "      <td>0.0</td>\n",
              "      <td>0.0</td>\n",
              "      <td>0.0</td>\n",
              "      <td>0.000000</td>\n",
              "      <td>0.166667</td>\n",
              "      <td>0.0</td>\n",
              "      <td>2019-07-01 00:00:00+00:00</td>\n",
              "      <td>52.0</td>\n",
              "      <td>1</td>\n",
              "      <td>19</td>\n",
              "      <td>1</td>\n",
              "    </tr>\n",
              "    <tr>\n",
              "      <th>2</th>\n",
              "      <td>0004720dc16aed1f98fd79f59736170e0d686199cd9ae5...</td>\n",
              "      <td>0.0</td>\n",
              "      <td>0.0</td>\n",
              "      <td>0.000000</td>\n",
              "      <td>0.0</td>\n",
              "      <td>0.0</td>\n",
              "      <td>0.0</td>\n",
              "      <td>0.0</td>\n",
              "      <td>0.571429</td>\n",
              "      <td>0.428571</td>\n",
              "      <td>0.0</td>\n",
              "      <td>2019-07-01 00:00:00+00:00</td>\n",
              "      <td>59.3</td>\n",
              "      <td>1</td>\n",
              "      <td>29</td>\n",
              "      <td>1</td>\n",
              "    </tr>\n",
              "    <tr>\n",
              "      <th>3</th>\n",
              "      <td>0006a32816a3af172048de7db87c97c4c8c7ad7e6385fa...</td>\n",
              "      <td>0.0</td>\n",
              "      <td>0.0</td>\n",
              "      <td>0.000000</td>\n",
              "      <td>0.0</td>\n",
              "      <td>0.0</td>\n",
              "      <td>0.0</td>\n",
              "      <td>0.5</td>\n",
              "      <td>0.500000</td>\n",
              "      <td>0.000000</td>\n",
              "      <td>0.0</td>\n",
              "      <td>2019-07-01 00:00:00+00:00</td>\n",
              "      <td>95.2</td>\n",
              "      <td>2</td>\n",
              "      <td>1</td>\n",
              "      <td>1</td>\n",
              "    </tr>\n",
              "    <tr>\n",
              "      <th>4</th>\n",
              "      <td>00081913eb21cd12aecc831bda704f8c6482723b55e664...</td>\n",
              "      <td>0.0</td>\n",
              "      <td>0.0</td>\n",
              "      <td>0.333333</td>\n",
              "      <td>0.0</td>\n",
              "      <td>0.0</td>\n",
              "      <td>0.0</td>\n",
              "      <td>0.0</td>\n",
              "      <td>0.666667</td>\n",
              "      <td>0.000000</td>\n",
              "      <td>0.0</td>\n",
              "      <td>2019-07-01 00:00:00+00:00</td>\n",
              "      <td>27.0</td>\n",
              "      <td>1</td>\n",
              "      <td>13</td>\n",
              "      <td>1</td>\n",
              "    </tr>\n",
              "  </tbody>\n",
              "</table>\n",
              "</div>\n",
              "      <button class=\"colab-df-convert\" onclick=\"convertToInteractive('df-b30782d7-e2f7-49ee-9c57-99513458aaae')\"\n",
              "              title=\"Convert this dataframe to an interactive table.\"\n",
              "              style=\"display:none;\">\n",
              "        \n",
              "  <svg xmlns=\"http://www.w3.org/2000/svg\" height=\"24px\"viewBox=\"0 0 24 24\"\n",
              "       width=\"24px\">\n",
              "    <path d=\"M0 0h24v24H0V0z\" fill=\"none\"/>\n",
              "    <path d=\"M18.56 5.44l.94 2.06.94-2.06 2.06-.94-2.06-.94-.94-2.06-.94 2.06-2.06.94zm-11 1L8.5 8.5l.94-2.06 2.06-.94-2.06-.94L8.5 2.5l-.94 2.06-2.06.94zm10 10l.94 2.06.94-2.06 2.06-.94-2.06-.94-.94-2.06-.94 2.06-2.06.94z\"/><path d=\"M17.41 7.96l-1.37-1.37c-.4-.4-.92-.59-1.43-.59-.52 0-1.04.2-1.43.59L10.3 9.45l-7.72 7.72c-.78.78-.78 2.05 0 2.83L4 21.41c.39.39.9.59 1.41.59.51 0 1.02-.2 1.41-.59l7.78-7.78 2.81-2.81c.8-.78.8-2.07 0-2.86zM5.41 20L4 18.59l7.72-7.72 1.47 1.35L5.41 20z\"/>\n",
              "  </svg>\n",
              "      </button>\n",
              "      \n",
              "  <style>\n",
              "    .colab-df-container {\n",
              "      display:flex;\n",
              "      flex-wrap:wrap;\n",
              "      gap: 12px;\n",
              "    }\n",
              "\n",
              "    .colab-df-convert {\n",
              "      background-color: #E8F0FE;\n",
              "      border: none;\n",
              "      border-radius: 50%;\n",
              "      cursor: pointer;\n",
              "      display: none;\n",
              "      fill: #1967D2;\n",
              "      height: 32px;\n",
              "      padding: 0 0 0 0;\n",
              "      width: 32px;\n",
              "    }\n",
              "\n",
              "    .colab-df-convert:hover {\n",
              "      background-color: #E2EBFA;\n",
              "      box-shadow: 0px 1px 2px rgba(60, 64, 67, 0.3), 0px 1px 3px 1px rgba(60, 64, 67, 0.15);\n",
              "      fill: #174EA6;\n",
              "    }\n",
              "\n",
              "    [theme=dark] .colab-df-convert {\n",
              "      background-color: #3B4455;\n",
              "      fill: #D2E3FC;\n",
              "    }\n",
              "\n",
              "    [theme=dark] .colab-df-convert:hover {\n",
              "      background-color: #434B5C;\n",
              "      box-shadow: 0px 1px 3px 1px rgba(0, 0, 0, 0.15);\n",
              "      filter: drop-shadow(0px 1px 2px rgba(0, 0, 0, 0.3));\n",
              "      fill: #FFFFFF;\n",
              "    }\n",
              "  </style>\n",
              "\n",
              "      <script>\n",
              "        const buttonEl =\n",
              "          document.querySelector('#df-b30782d7-e2f7-49ee-9c57-99513458aaae button.colab-df-convert');\n",
              "        buttonEl.style.display =\n",
              "          google.colab.kernel.accessAllowed ? 'block' : 'none';\n",
              "\n",
              "        async function convertToInteractive(key) {\n",
              "          const element = document.querySelector('#df-b30782d7-e2f7-49ee-9c57-99513458aaae');\n",
              "          const dataTable =\n",
              "            await google.colab.kernel.invokeFunction('convertToInteractive',\n",
              "                                                     [key], {});\n",
              "          if (!dataTable) return;\n",
              "\n",
              "          const docLinkHtml = 'Like what you see? Visit the ' +\n",
              "            '<a target=\"_blank\" href=https://colab.research.google.com/notebooks/data_table.ipynb>data table notebook</a>'\n",
              "            + ' to learn more about interactive tables.';\n",
              "          element.innerHTML = '';\n",
              "          dataTable['output_type'] = 'display_data';\n",
              "          await google.colab.output.renderOutput(dataTable, element);\n",
              "          const docLink = document.createElement('div');\n",
              "          docLink.innerHTML = docLinkHtml;\n",
              "          element.appendChild(docLink);\n",
              "        }\n",
              "      </script>\n",
              "    </div>\n",
              "  </div>\n",
              "  "
            ]
          },
          "metadata": {},
          "execution_count": 32
        }
      ],
      "source": [
        "df_abt_train = df_customer_order_shift_train.merge(df_abt_train, how='left', on=\"customer_id\")\n",
        "# df_abt_train.drop(\"_merge\", axis=1, inplace=True)\n",
        "df_abt_train.head(5)"
      ]
    },
    {
      "cell_type": "markdown",
      "metadata": {
        "id": "tmtwebuxz5RW"
      },
      "source": [
        "**<span style=\"color:blue\">(1 ponto)</span> `Q20`** Replique essas duas etapas para a base de OOT.\n",
        "\n",
        "- Crie o DataFrame `df_customer_order_shift_oot` utilizando o comando `pd.crosstab` com o parâmetro `normalize='index'`. Lembre-se de resetar o indice.\n",
        "\n",
        "- Faça o merge com a `df_abt_oot` com os parâmetros `how='left'` e `on='customer_id'`.\n",
        "\n",
        "- Imprime as 5 primeiras linhas do `df_abt_oot`.\n"
      ]
    },
    {
      "cell_type": "code",
      "execution_count": null,
      "metadata": {
        "id": "_ZtSwaBisnoM",
        "colab": {
          "base_uri": "https://localhost:8080/",
          "height": 354
        },
        "outputId": "214a9c6f-d010-45e2-f7f8-052147577ed9"
      },
      "outputs": [
        {
          "output_type": "execute_result",
          "data": {
            "text/plain": [
              "                                         customer_id  weekday breakfast  \\\n",
              "0  000a1fac4f7a67cc3f2e7667167597cb2c9a1b9edafe18...                0.0   \n",
              "1  0014b7013c66a05d0b5ce0687d614ac220d3ae1af398d2...                0.0   \n",
              "2  00150a9d8edc32b5ac2c1a8089e5615dbd297cea2c6cba...                0.0   \n",
              "3  00197c67cab97917c3e147877fc36ae9e9208f4bd578ca...                0.0   \n",
              "4  001b8d424e1aa9b762831ccce74a6b4c648a83f2d8a239...                0.0   \n",
              "\n",
              "   weekday dawn  weekday dinner  weekday lunch  weekday snack  \\\n",
              "0           0.0        0.666667            0.0          0.000   \n",
              "1           0.0        0.400000            0.0          0.000   \n",
              "2           0.0        0.000000            0.5          0.000   \n",
              "3           0.0        0.800000            0.0          0.000   \n",
              "4           0.0        0.250000            0.5          0.125   \n",
              "\n",
              "   weekend breakfast  weekend dawn  weekend dinner  weekend lunch  \\\n",
              "0                0.0           0.0        0.333333            0.0   \n",
              "1                0.0           0.0        0.600000            0.0   \n",
              "2                0.0           0.0        0.500000            0.0   \n",
              "3                0.0           0.0        0.000000            0.0   \n",
              "4                0.0           0.0        0.000000            0.0   \n",
              "\n",
              "   weekend snack                  data_ref  receita_1m  qtd_pedidos_1m  \\\n",
              "0          0.000 2019-08-01 00:00:00+00:00       85.89               3   \n",
              "1          0.000 2019-08-01 00:00:00+00:00      211.96               5   \n",
              "2          0.000 2019-08-01 00:00:00+00:00      164.60               2   \n",
              "3          0.200 2019-08-01 00:00:00+00:00      196.20               5   \n",
              "4          0.125 2019-08-01 00:00:00+00:00      238.68               8   \n",
              "\n",
              "   recencia churn_next_month  \n",
              "0        11                0  \n",
              "1        11                0  \n",
              "2        14                0  \n",
              "3         2                0  \n",
              "4         0                0  "
            ],
            "text/html": [
              "\n",
              "  <div id=\"df-ab0833ce-ee79-41fa-9831-16adc72372da\">\n",
              "    <div class=\"colab-df-container\">\n",
              "      <div>\n",
              "<style scoped>\n",
              "    .dataframe tbody tr th:only-of-type {\n",
              "        vertical-align: middle;\n",
              "    }\n",
              "\n",
              "    .dataframe tbody tr th {\n",
              "        vertical-align: top;\n",
              "    }\n",
              "\n",
              "    .dataframe thead th {\n",
              "        text-align: right;\n",
              "    }\n",
              "</style>\n",
              "<table border=\"1\" class=\"dataframe\">\n",
              "  <thead>\n",
              "    <tr style=\"text-align: right;\">\n",
              "      <th></th>\n",
              "      <th>customer_id</th>\n",
              "      <th>weekday breakfast</th>\n",
              "      <th>weekday dawn</th>\n",
              "      <th>weekday dinner</th>\n",
              "      <th>weekday lunch</th>\n",
              "      <th>weekday snack</th>\n",
              "      <th>weekend breakfast</th>\n",
              "      <th>weekend dawn</th>\n",
              "      <th>weekend dinner</th>\n",
              "      <th>weekend lunch</th>\n",
              "      <th>weekend snack</th>\n",
              "      <th>data_ref</th>\n",
              "      <th>receita_1m</th>\n",
              "      <th>qtd_pedidos_1m</th>\n",
              "      <th>recencia</th>\n",
              "      <th>churn_next_month</th>\n",
              "    </tr>\n",
              "  </thead>\n",
              "  <tbody>\n",
              "    <tr>\n",
              "      <th>0</th>\n",
              "      <td>000a1fac4f7a67cc3f2e7667167597cb2c9a1b9edafe18...</td>\n",
              "      <td>0.0</td>\n",
              "      <td>0.0</td>\n",
              "      <td>0.666667</td>\n",
              "      <td>0.0</td>\n",
              "      <td>0.000</td>\n",
              "      <td>0.0</td>\n",
              "      <td>0.0</td>\n",
              "      <td>0.333333</td>\n",
              "      <td>0.0</td>\n",
              "      <td>0.000</td>\n",
              "      <td>2019-08-01 00:00:00+00:00</td>\n",
              "      <td>85.89</td>\n",
              "      <td>3</td>\n",
              "      <td>11</td>\n",
              "      <td>0</td>\n",
              "    </tr>\n",
              "    <tr>\n",
              "      <th>1</th>\n",
              "      <td>0014b7013c66a05d0b5ce0687d614ac220d3ae1af398d2...</td>\n",
              "      <td>0.0</td>\n",
              "      <td>0.0</td>\n",
              "      <td>0.400000</td>\n",
              "      <td>0.0</td>\n",
              "      <td>0.000</td>\n",
              "      <td>0.0</td>\n",
              "      <td>0.0</td>\n",
              "      <td>0.600000</td>\n",
              "      <td>0.0</td>\n",
              "      <td>0.000</td>\n",
              "      <td>2019-08-01 00:00:00+00:00</td>\n",
              "      <td>211.96</td>\n",
              "      <td>5</td>\n",
              "      <td>11</td>\n",
              "      <td>0</td>\n",
              "    </tr>\n",
              "    <tr>\n",
              "      <th>2</th>\n",
              "      <td>00150a9d8edc32b5ac2c1a8089e5615dbd297cea2c6cba...</td>\n",
              "      <td>0.0</td>\n",
              "      <td>0.0</td>\n",
              "      <td>0.000000</td>\n",
              "      <td>0.5</td>\n",
              "      <td>0.000</td>\n",
              "      <td>0.0</td>\n",
              "      <td>0.0</td>\n",
              "      <td>0.500000</td>\n",
              "      <td>0.0</td>\n",
              "      <td>0.000</td>\n",
              "      <td>2019-08-01 00:00:00+00:00</td>\n",
              "      <td>164.60</td>\n",
              "      <td>2</td>\n",
              "      <td>14</td>\n",
              "      <td>0</td>\n",
              "    </tr>\n",
              "    <tr>\n",
              "      <th>3</th>\n",
              "      <td>00197c67cab97917c3e147877fc36ae9e9208f4bd578ca...</td>\n",
              "      <td>0.0</td>\n",
              "      <td>0.0</td>\n",
              "      <td>0.800000</td>\n",
              "      <td>0.0</td>\n",
              "      <td>0.000</td>\n",
              "      <td>0.0</td>\n",
              "      <td>0.0</td>\n",
              "      <td>0.000000</td>\n",
              "      <td>0.0</td>\n",
              "      <td>0.200</td>\n",
              "      <td>2019-08-01 00:00:00+00:00</td>\n",
              "      <td>196.20</td>\n",
              "      <td>5</td>\n",
              "      <td>2</td>\n",
              "      <td>0</td>\n",
              "    </tr>\n",
              "    <tr>\n",
              "      <th>4</th>\n",
              "      <td>001b8d424e1aa9b762831ccce74a6b4c648a83f2d8a239...</td>\n",
              "      <td>0.0</td>\n",
              "      <td>0.0</td>\n",
              "      <td>0.250000</td>\n",
              "      <td>0.5</td>\n",
              "      <td>0.125</td>\n",
              "      <td>0.0</td>\n",
              "      <td>0.0</td>\n",
              "      <td>0.000000</td>\n",
              "      <td>0.0</td>\n",
              "      <td>0.125</td>\n",
              "      <td>2019-08-01 00:00:00+00:00</td>\n",
              "      <td>238.68</td>\n",
              "      <td>8</td>\n",
              "      <td>0</td>\n",
              "      <td>0</td>\n",
              "    </tr>\n",
              "  </tbody>\n",
              "</table>\n",
              "</div>\n",
              "      <button class=\"colab-df-convert\" onclick=\"convertToInteractive('df-ab0833ce-ee79-41fa-9831-16adc72372da')\"\n",
              "              title=\"Convert this dataframe to an interactive table.\"\n",
              "              style=\"display:none;\">\n",
              "        \n",
              "  <svg xmlns=\"http://www.w3.org/2000/svg\" height=\"24px\"viewBox=\"0 0 24 24\"\n",
              "       width=\"24px\">\n",
              "    <path d=\"M0 0h24v24H0V0z\" fill=\"none\"/>\n",
              "    <path d=\"M18.56 5.44l.94 2.06.94-2.06 2.06-.94-2.06-.94-.94-2.06-.94 2.06-2.06.94zm-11 1L8.5 8.5l.94-2.06 2.06-.94-2.06-.94L8.5 2.5l-.94 2.06-2.06.94zm10 10l.94 2.06.94-2.06 2.06-.94-2.06-.94-.94-2.06-.94 2.06-2.06.94z\"/><path d=\"M17.41 7.96l-1.37-1.37c-.4-.4-.92-.59-1.43-.59-.52 0-1.04.2-1.43.59L10.3 9.45l-7.72 7.72c-.78.78-.78 2.05 0 2.83L4 21.41c.39.39.9.59 1.41.59.51 0 1.02-.2 1.41-.59l7.78-7.78 2.81-2.81c.8-.78.8-2.07 0-2.86zM5.41 20L4 18.59l7.72-7.72 1.47 1.35L5.41 20z\"/>\n",
              "  </svg>\n",
              "      </button>\n",
              "      \n",
              "  <style>\n",
              "    .colab-df-container {\n",
              "      display:flex;\n",
              "      flex-wrap:wrap;\n",
              "      gap: 12px;\n",
              "    }\n",
              "\n",
              "    .colab-df-convert {\n",
              "      background-color: #E8F0FE;\n",
              "      border: none;\n",
              "      border-radius: 50%;\n",
              "      cursor: pointer;\n",
              "      display: none;\n",
              "      fill: #1967D2;\n",
              "      height: 32px;\n",
              "      padding: 0 0 0 0;\n",
              "      width: 32px;\n",
              "    }\n",
              "\n",
              "    .colab-df-convert:hover {\n",
              "      background-color: #E2EBFA;\n",
              "      box-shadow: 0px 1px 2px rgba(60, 64, 67, 0.3), 0px 1px 3px 1px rgba(60, 64, 67, 0.15);\n",
              "      fill: #174EA6;\n",
              "    }\n",
              "\n",
              "    [theme=dark] .colab-df-convert {\n",
              "      background-color: #3B4455;\n",
              "      fill: #D2E3FC;\n",
              "    }\n",
              "\n",
              "    [theme=dark] .colab-df-convert:hover {\n",
              "      background-color: #434B5C;\n",
              "      box-shadow: 0px 1px 3px 1px rgba(0, 0, 0, 0.15);\n",
              "      filter: drop-shadow(0px 1px 2px rgba(0, 0, 0, 0.3));\n",
              "      fill: #FFFFFF;\n",
              "    }\n",
              "  </style>\n",
              "\n",
              "      <script>\n",
              "        const buttonEl =\n",
              "          document.querySelector('#df-ab0833ce-ee79-41fa-9831-16adc72372da button.colab-df-convert');\n",
              "        buttonEl.style.display =\n",
              "          google.colab.kernel.accessAllowed ? 'block' : 'none';\n",
              "\n",
              "        async function convertToInteractive(key) {\n",
              "          const element = document.querySelector('#df-ab0833ce-ee79-41fa-9831-16adc72372da');\n",
              "          const dataTable =\n",
              "            await google.colab.kernel.invokeFunction('convertToInteractive',\n",
              "                                                     [key], {});\n",
              "          if (!dataTable) return;\n",
              "\n",
              "          const docLinkHtml = 'Like what you see? Visit the ' +\n",
              "            '<a target=\"_blank\" href=https://colab.research.google.com/notebooks/data_table.ipynb>data table notebook</a>'\n",
              "            + ' to learn more about interactive tables.';\n",
              "          element.innerHTML = '';\n",
              "          dataTable['output_type'] = 'display_data';\n",
              "          await google.colab.output.renderOutput(dataTable, element);\n",
              "          const docLink = document.createElement('div');\n",
              "          docLink.innerHTML = docLinkHtml;\n",
              "          element.appendChild(docLink);\n",
              "        }\n",
              "      </script>\n",
              "    </div>\n",
              "  </div>\n",
              "  "
            ]
          },
          "metadata": {},
          "execution_count": 33
        }
      ],
      "source": [
        "df_customer_order_shift_oot = (\n",
        "    pd.crosstab(index=df_features_oot[\"customer_id\"], columns=df_features_oot[\"order_shift\"], normalize='index')\n",
        "    .reset_index()\n",
        ")\n",
        "\n",
        "df_abt_oot = df_customer_order_shift_oot.merge(df_abt_oot, how='left', on=\"customer_id\")\n",
        "df_abt_oot.head(5)\n"
      ]
    },
    {
      "cell_type": "markdown",
      "metadata": {
        "id": "o6XjzHgutFkt"
      },
      "source": [
        "Criamos mais 10 variáveis tanto na ABT de treino quanto na de teste (OOT). Essas variáveis indicam o percentual de pedidos realizados por cada usuário em um horário específico do dia.\n",
        "\n",
        "- weekday breakfast\n",
        "- weekday dawn\n",
        "- weekday dinner\n",
        "- weekday lunch\n",
        "- weekday snack\n",
        "- weekend breakfast\n",
        "- weekend dawn\n",
        "- weekend dinner\n",
        "- weekend lunch\n",
        "- weekend snack"
      ]
    },
    {
      "cell_type": "code",
      "execution_count": null,
      "metadata": {
        "id": "YgC_xDGmQJCu",
        "colab": {
          "base_uri": "https://localhost:8080/"
        },
        "outputId": "7dab9768-6602-417c-e909-17ffa061913a"
      },
      "outputs": [
        {
          "output_type": "stream",
          "name": "stdout",
          "text": [
            "a base df_abt_train possui 30079 linhas e 16 colunas\n",
            "a base df_abt_oot  possui 18441 linhas e 16 colunas\n"
          ]
        }
      ],
      "source": [
        "# Verifique as dimensões de df_abt_train e df_abt_oot\n",
        "print(f'a base df_abt_train possui {df_abt_train.shape[0]} linhas e {df_abt_train.shape[1]} colunas')\n",
        "print(f'a base df_abt_oot  possui {df_abt_oot.shape[0]} linhas e {df_abt_oot.shape[1]} colunas')"
      ]
    },
    {
      "cell_type": "markdown",
      "source": [
        "<img align=\"left\" width=\"20\" src=\"http://dinomagri.com/imgs/checkpoint.png\" /> &nbsp; **CHECKPOINT** - O DataFrame `df_abt_train` deverá conter exatamente `(30079, 16)` e DataFrame `df_abt_oot` deverá conter `(18441, 16)`."
      ],
      "metadata": {
        "id": "aVOWkX2_oyEH"
      }
    },
    {
      "cell_type": "markdown",
      "metadata": {
        "id": "BKaBk2yejhqO"
      },
      "source": [
        "**<span style=\"color:blue\">(1 ponto)</span> `Q21`** Com as features criadas, vamos utilizar o melhor algoritmo testado até o momento (LighGBM) para avaliar se as novas features impactam o modelo a ser gerado. Avalie utilizando a métrica **AUC**.\n",
        "\n",
        "- Necessário recriar o X_train, y_train, X_oot e y_oot incluindo as novas features.\n",
        "- Recuperar os hiperpâmetros do melhor modelo (best_model) para serem utilizados\n",
        "- Crie um novo pipeline adicionando os hiperparâmetro recuperados.\n",
        "- \"Fit\" o pipeline criado\n",
        "- Calcular e predizer a probabilidade da classe 1 (y_proba) na OOT\n",
        "- Calcular a AUC score na OOT"
      ]
    },
    {
      "cell_type": "code",
      "execution_count": null,
      "metadata": {
        "id": "urqpBps5aYvZ",
        "colab": {
          "base_uri": "https://localhost:8080/"
        },
        "outputId": "6d516c10-4db6-4e1f-8db7-950f83419714"
      },
      "outputs": [
        {
          "output_type": "stream",
          "name": "stdout",
          "text": [
            "Fitting 5 folds for each of 60 candidates, totalling 300 fits\n",
            "O melhor Score é 0.8609328088268894 e, os melhores hiperparâmetros são: {'lgbm__learning_rate': 0.05, 'lgbm__max_depth': 5, 'lgbm__n_estimators': 500}\n",
            "lgbm: Performance do modelo na Out of Time com o uso da AUC: 0.723730642250239\n"
          ]
        }
      ],
      "source": [
        "# Utilize as seguintes variáveis:\n",
        "target = 'churn_next_month'\n",
        "num_vars = ['receita_1m', 'qtd_pedidos_1m', 'recencia',\n",
        "            'weekday breakfast', 'weekday dawn', 'weekday dinner', 'weekday lunch', 'weekday snack',\n",
        "            'weekend breakfast', 'weekend dawn', 'weekend dinner', 'weekend lunch', 'weekend snack']\n",
        "cat_vars = []\n",
        "features = num_vars + cat_vars\n",
        "\n",
        "# Adicione seu código aqui\n",
        "# sobre os dados de Junho/2019\n",
        "X_train = df_abt_train[features]\n",
        "\n",
        "# target sobre os dados de Julho/2019\n",
        "y_train = df_abt_train[target]\n",
        "\n",
        "# sobre os dados de Julho/2019\n",
        "X_oot = df_abt_oot[features]\n",
        "\n",
        "# target sobre os dados de Agosto/2019\n",
        "y_oot = df_abt_oot[target]\n",
        "\n",
        "# Treine o melhor estimador (best_model)\n",
        "grid_search.fit(X_train, y_train)\n",
        "print(f'O melhor Score é {grid_search.best_score_} e, os melhores hiperparâmetros são: {grid_search.best_params_}')\n",
        "\n",
        "# Melhor Modelo\n",
        "best_model_teste2 = grid_search.best_estimator_\n",
        "best_model_teste2.fit(X_train, y_train)\n",
        "\n",
        "y_proba_oot = best_model_teste2.predict_proba(X_oot)[:, 1]\n",
        "roc_auc_score_teste2 = roc_auc_score(y_oot, y_proba_oot)\n",
        "\n",
        "print(f'lgbm: Performance do modelo na Out of Time com o uso da AUC: {roc_auc_score_teste2}')\n"
      ]
    },
    {
      "cell_type": "markdown",
      "metadata": {
        "id": "Jv_xbUSh3NJJ"
      },
      "source": [
        "**<span style=\"color:blue\">(1 ponto)</span> `Q22`** Houve melhora em relação ao modelo anterior?"
      ]
    },
    {
      "cell_type": "code",
      "source": [
        "desempenho  =((roc_auc_score_teste1 / roc_auc_score_teste2)-1)\n",
        "\n",
        "print('Resultado:')\n",
        "print(f'O primeiro teste sem variáveis de horário do pedido apresentou um AUC de {roc_auc_score_teste1} ')\n",
        "print(f'O segundo teste com as variáveis de horário do pedido apresentou um AUC de {roc_auc_score_teste2} ')\n",
        "print(f'O desempenho do primeiro modelo foi de {desempenho*100}% melhor')"
      ],
      "metadata": {
        "colab": {
          "base_uri": "https://localhost:8080/"
        },
        "id": "J3XSlM51iRO5",
        "outputId": "323df555-9c9e-4e48-d065-b840d2bb3a94"
      },
      "execution_count": null,
      "outputs": [
        {
          "output_type": "stream",
          "name": "stdout",
          "text": [
            "Resultado:\n",
            "O primeiro teste sem variáveis de horário do pedido apresentou um AUC de 0.7372138323518183 \n",
            "O segundo teste com as variáveis de horário do pedido apresentou um AUC de 0.723730642250239 \n",
            "O desempenho do primeiro modelo foi de 1.8630121918918663% melhor\n"
          ]
        }
      ]
    },
    {
      "cell_type": "markdown",
      "metadata": {
        "id": "8GPvWA2a0GdX"
      },
      "source": [
        "**[RESPOSTA]**: Não houve melhora comparado ao modelo anterior."
      ]
    },
    {
      "cell_type": "markdown",
      "metadata": {
        "id": "2W-qVhEL3ypB"
      },
      "source": [
        "**<span style=\"color:blue\">(1 ponto)</span> `Q23`** Qual foi o melhor modelo encontrado e quais as features utilizadas?"
      ]
    },
    {
      "cell_type": "code",
      "source": [
        "best_model.get_params('variables')"
      ],
      "metadata": {
        "colab": {
          "base_uri": "https://localhost:8080/"
        },
        "id": "cxLI7YuDjEXV",
        "outputId": "eaf67d41-1b35-4aac-e460-9dbf5521393c"
      },
      "execution_count": null,
      "outputs": [
        {
          "output_type": "execute_result",
          "data": {
            "text/plain": [
              "{'lgbm': LGBMClassifier(learning_rate=0.05, max_depth=3, random_state=42),\n",
              " 'lgbm__boosting_type': 'gbdt',\n",
              " 'lgbm__class_weight': None,\n",
              " 'lgbm__colsample_bytree': 1.0,\n",
              " 'lgbm__importance_type': 'split',\n",
              " 'lgbm__learning_rate': 0.05,\n",
              " 'lgbm__max_depth': 3,\n",
              " 'lgbm__min_child_samples': 20,\n",
              " 'lgbm__min_child_weight': 0.001,\n",
              " 'lgbm__min_split_gain': 0.0,\n",
              " 'lgbm__n_estimators': 100,\n",
              " 'lgbm__n_jobs': -1,\n",
              " 'lgbm__num_leaves': 31,\n",
              " 'lgbm__objective': None,\n",
              " 'lgbm__random_state': 42,\n",
              " 'lgbm__reg_alpha': 0.0,\n",
              " 'lgbm__reg_lambda': 0.0,\n",
              " 'lgbm__silent': True,\n",
              " 'lgbm__subsample': 1.0,\n",
              " 'lgbm__subsample_for_bin': 200000,\n",
              " 'lgbm__subsample_freq': 0,\n",
              " 'memory': None,\n",
              " 'numeric_imputer': MeanMedianImputer(variables=['receita_1m', 'qtd_pedidos_1m', 'recencia']),\n",
              " 'numeric_imputer__imputation_method': 'median',\n",
              " 'numeric_imputer__variables': ['receita_1m', 'qtd_pedidos_1m', 'recencia'],\n",
              " 'steps': [('numeric_imputer',\n",
              "   MeanMedianImputer(variables=['receita_1m', 'qtd_pedidos_1m', 'recencia'])),\n",
              "  ('lgbm', LGBMClassifier(learning_rate=0.05, max_depth=3, random_state=42))],\n",
              " 'verbose': False}"
            ]
          },
          "metadata": {},
          "execution_count": 37
        }
      ]
    },
    {
      "cell_type": "markdown",
      "metadata": {
        "id": "fvvMn9wWfEMW"
      },
      "source": [
        "**[RESPOSTA]**:  O melhor modelo foi o primeiro, onde foi utilizado as features: 'receita_1m', 'qtd_pedidos_1m', 'recencia'"
      ]
    },
    {
      "cell_type": "markdown",
      "metadata": {
        "id": "eFb3gw6BUCzF"
      },
      "source": [
        "**<span style=\"color:blue\">(1 ponto)</span> `Q24`** Rode o shap values para entender quais as variáveis mais importantes do modelo e como elas se relacionam com a variável target (código já está disponível, basta apenas executar e interpretar para responder as perguntas abaixo).\n",
        "\n",
        "**Responda:**\n",
        "\n",
        "- **Qual a variável mais importante?**\n",
        "- **Como ela se relaciona com a variável target?**\n",
        "- **Como as outras variáveis se relacionam com a variável target?**"
      ]
    },
    {
      "cell_type": "code",
      "execution_count": null,
      "metadata": {
        "id": "PPHCqMl6URH6",
        "colab": {
          "base_uri": "https://localhost:8080/"
        },
        "outputId": "17c106ec-8aa5-4fdb-af2f-5230dffa606a"
      },
      "outputs": [
        {
          "output_type": "stream",
          "name": "stdout",
          "text": [
            "Collecting shap==0.39.0\n",
            "  Downloading shap-0.39.0.tar.gz (356 kB)\n",
            "\u001b[?25l\r\u001b[K     |█                               | 10 kB 21.9 MB/s eta 0:00:01\r\u001b[K     |█▉                              | 20 kB 28.2 MB/s eta 0:00:01\r\u001b[K     |██▊                             | 30 kB 32.5 MB/s eta 0:00:01\r\u001b[K     |███▊                            | 40 kB 28.3 MB/s eta 0:00:01\r\u001b[K     |████▋                           | 51 kB 23.9 MB/s eta 0:00:01\r\u001b[K     |█████▌                          | 61 kB 27.0 MB/s eta 0:00:01\r\u001b[K     |██████▍                         | 71 kB 22.6 MB/s eta 0:00:01\r\u001b[K     |███████▍                        | 81 kB 24.2 MB/s eta 0:00:01\r\u001b[K     |████████▎                       | 92 kB 25.9 MB/s eta 0:00:01\r\u001b[K     |█████████▏                      | 102 kB 26.3 MB/s eta 0:00:01\r\u001b[K     |██████████▏                     | 112 kB 26.3 MB/s eta 0:00:01\r\u001b[K     |███████████                     | 122 kB 26.3 MB/s eta 0:00:01\r\u001b[K     |████████████                    | 133 kB 26.3 MB/s eta 0:00:01\r\u001b[K     |████████████▉                   | 143 kB 26.3 MB/s eta 0:00:01\r\u001b[K     |█████████████▉                  | 153 kB 26.3 MB/s eta 0:00:01\r\u001b[K     |██████████████▊                 | 163 kB 26.3 MB/s eta 0:00:01\r\u001b[K     |███████████████▋                | 174 kB 26.3 MB/s eta 0:00:01\r\u001b[K     |████████████████▋               | 184 kB 26.3 MB/s eta 0:00:01\r\u001b[K     |█████████████████▌              | 194 kB 26.3 MB/s eta 0:00:01\r\u001b[K     |██████████████████▍             | 204 kB 26.3 MB/s eta 0:00:01\r\u001b[K     |███████████████████▎            | 215 kB 26.3 MB/s eta 0:00:01\r\u001b[K     |████████████████████▎           | 225 kB 26.3 MB/s eta 0:00:01\r\u001b[K     |█████████████████████▏          | 235 kB 26.3 MB/s eta 0:00:01\r\u001b[K     |██████████████████████          | 245 kB 26.3 MB/s eta 0:00:01\r\u001b[K     |███████████████████████         | 256 kB 26.3 MB/s eta 0:00:01\r\u001b[K     |████████████████████████        | 266 kB 26.3 MB/s eta 0:00:01\r\u001b[K     |████████████████████████▉       | 276 kB 26.3 MB/s eta 0:00:01\r\u001b[K     |█████████████████████████▊      | 286 kB 26.3 MB/s eta 0:00:01\r\u001b[K     |██████████████████████████▊     | 296 kB 26.3 MB/s eta 0:00:01\r\u001b[K     |███████████████████████████▋    | 307 kB 26.3 MB/s eta 0:00:01\r\u001b[K     |████████████████████████████▌   | 317 kB 26.3 MB/s eta 0:00:01\r\u001b[K     |█████████████████████████████▍  | 327 kB 26.3 MB/s eta 0:00:01\r\u001b[K     |██████████████████████████████▍ | 337 kB 26.3 MB/s eta 0:00:01\r\u001b[K     |███████████████████████████████▎| 348 kB 26.3 MB/s eta 0:00:01\r\u001b[K     |████████████████████████████████| 356 kB 26.3 MB/s \n",
            "\u001b[?25hRequirement already satisfied: numpy in /usr/local/lib/python3.7/dist-packages (from shap==0.39.0) (1.21.6)\n",
            "Requirement already satisfied: scipy in /usr/local/lib/python3.7/dist-packages (from shap==0.39.0) (1.4.1)\n",
            "Requirement already satisfied: scikit-learn in /usr/local/lib/python3.7/dist-packages (from shap==0.39.0) (1.0.2)\n",
            "Requirement already satisfied: pandas in /usr/local/lib/python3.7/dist-packages (from shap==0.39.0) (1.3.5)\n",
            "Requirement already satisfied: tqdm>4.25.0 in /usr/local/lib/python3.7/dist-packages (from shap==0.39.0) (4.64.0)\n",
            "Collecting slicer==0.0.7\n",
            "  Downloading slicer-0.0.7-py3-none-any.whl (14 kB)\n",
            "Requirement already satisfied: numba in /usr/local/lib/python3.7/dist-packages (from shap==0.39.0) (0.51.2)\n",
            "Requirement already satisfied: cloudpickle in /usr/local/lib/python3.7/dist-packages (from shap==0.39.0) (1.3.0)\n",
            "Requirement already satisfied: setuptools in /usr/local/lib/python3.7/dist-packages (from numba->shap==0.39.0) (57.4.0)\n",
            "Requirement already satisfied: llvmlite<0.35,>=0.34.0.dev0 in /usr/local/lib/python3.7/dist-packages (from numba->shap==0.39.0) (0.34.0)\n",
            "Requirement already satisfied: python-dateutil>=2.7.3 in /usr/local/lib/python3.7/dist-packages (from pandas->shap==0.39.0) (2.8.2)\n",
            "Requirement already satisfied: pytz>=2017.3 in /usr/local/lib/python3.7/dist-packages (from pandas->shap==0.39.0) (2022.1)\n",
            "Requirement already satisfied: six>=1.5 in /usr/local/lib/python3.7/dist-packages (from python-dateutil>=2.7.3->pandas->shap==0.39.0) (1.15.0)\n",
            "Requirement already satisfied: joblib>=0.11 in /usr/local/lib/python3.7/dist-packages (from scikit-learn->shap==0.39.0) (1.1.0)\n",
            "Requirement already satisfied: threadpoolctl>=2.0.0 in /usr/local/lib/python3.7/dist-packages (from scikit-learn->shap==0.39.0) (3.1.0)\n",
            "Building wheels for collected packages: shap\n",
            "  Building wheel for shap (setup.py) ... \u001b[?25l\u001b[?25hdone\n",
            "  Created wheel for shap: filename=shap-0.39.0-cp37-cp37m-linux_x86_64.whl size=491691 sha256=3aee1cdf55dc74e3bedffb96245196455824b7016fc54a2e1a45550d0ff0250d\n",
            "  Stored in directory: /root/.cache/pip/wheels/ca/25/8f/6ae5df62c32651cd719e972e738a8aaa4a87414c4d2b14c9c0\n",
            "Successfully built shap\n",
            "Installing collected packages: slicer, shap\n",
            "Successfully installed shap-0.39.0 slicer-0.0.7\n"
          ]
        }
      ],
      "source": [
        "!pip install shap==0.39.0"
      ]
    },
    {
      "cell_type": "code",
      "execution_count": null,
      "metadata": {
        "id": "wN4dFOlSGvWS"
      },
      "outputs": [],
      "source": [
        "features = ['receita_1m', 'qtd_pedidos_1m', 'recencia']\n",
        "\n",
        "X_train = df_abt_train[features]\n",
        "X_oot   = df_abt_oot[features]"
      ]
    },
    {
      "cell_type": "code",
      "execution_count": null,
      "metadata": {
        "id": "XtM2SEJ5UrZx",
        "colab": {
          "base_uri": "https://localhost:8080/"
        },
        "outputId": "f8225ca6-87a1-41e6-dbec-84fe298a394e"
      },
      "outputs": [
        {
          "output_type": "execute_result",
          "data": {
            "text/plain": [
              "Pipeline(steps=[('numeric_imputer',\n",
              "                 MeanMedianImputer(variables=['receita_1m', 'qtd_pedidos_1m',\n",
              "                                              'recencia'])),\n",
              "                ('lgbm',\n",
              "                 LGBMClassifier(learning_rate=0.05, max_depth=3,\n",
              "                                random_state=42))])"
            ]
          },
          "metadata": {},
          "execution_count": 40
        }
      ],
      "source": [
        "best_model"
      ]
    },
    {
      "cell_type": "code",
      "execution_count": null,
      "metadata": {
        "id": "si0IhUPUUlKK"
      },
      "outputs": [],
      "source": [
        "import shap\n",
        "explainer = shap.TreeExplainer(best_model[-1])"
      ]
    },
    {
      "cell_type": "code",
      "execution_count": null,
      "metadata": {
        "id": "6uUh7iYaU1Kz"
      },
      "outputs": [],
      "source": [
        "X_oot_transformado = best_model[:-1].transform(X_oot)\n",
        "\n",
        "# X_oot_transformado.shape\n",
        "# X_oot_transformado.head(3)"
      ]
    },
    {
      "cell_type": "code",
      "execution_count": null,
      "metadata": {
        "id": "5RzEPeNgU7Aw",
        "colab": {
          "base_uri": "https://localhost:8080/"
        },
        "outputId": "350104d7-60fc-4f42-a139-c0204200ae3d"
      },
      "outputs": [
        {
          "output_type": "stream",
          "name": "stderr",
          "text": [
            "LightGBM binary classifier with TreeExplainer shap values output has changed to a list of ndarray\n"
          ]
        }
      ],
      "source": [
        "shap_values = explainer.shap_values(X_oot_transformado)"
      ]
    },
    {
      "cell_type": "code",
      "execution_count": null,
      "metadata": {
        "id": "WqWYQ6C8U8sZ",
        "colab": {
          "base_uri": "https://localhost:8080/",
          "height": 216
        },
        "outputId": "58d1cc44-2139-4b2a-c583-9ab93eabfa21"
      },
      "outputs": [
        {
          "output_type": "display_data",
          "data": {
            "text/plain": [
              "<Figure size 576x194.4 with 2 Axes>"
            ],
            "image/png": "[encoded data removed]"
          },
          "metadata": {
            "needs_background": "light"
          }
        }
      ],
      "source": [
        "shap.summary_plot(shap_values[1], X_oot_transformado, plot_type='dot')"
      ]
    },
    {
      "cell_type": "markdown",
      "metadata": {
        "id": "1cSka8-MPPGi"
      },
      "source": [
        "**ADICIONE SUAS RESPOSTAS AQUI**\n",
        "\n",
        "- **Qual a variável mais importante?**\n",
        " <br>A variável mais importante é qtd_pedidos_1m\n",
        "\n",
        "\n",
        "- **Como ela se relaciona com a variável target?**\n",
        "<br><i>Observação:</i>\n",
        "<br>A classe 0 em nosso modelo significa que não haverá churn no próximo mês\n",
        "<br>Enquanto que a classe 1 significa que haverá churn no próximo mês\n",
        "<br>A concentração de pontos \"High\" da feature \"qtde_pedidos_1m\" está concentrada no lado esquerdo, que é a classe 0, ou seja, que há tendência de que não haverá churn\n",
        "<br><i>Conclusão:</i>\n",
        "<br>A interpretação é que se o valor desta feature for alto, haverá uma chance alta que não haverá churn no próximo mês\n",
        "\n",
        "- **Como as outras variáveis se relacionam com a variável target?**\n",
        " <br><i>recencia</i>: Quanto mais alto for a recência, maior a possibilidade de não haver churn\n",
        " <br><i>receita_1m</i>: Quanto mais alto for esta feature, maior a possibilidade de não haver churn.\n"
      ]
    }
  ],
  "metadata": {
    "colab": {
      "provenance": []
    },
    "kernelspec": {
      "display_name": "Python 3",
      "language": "python",
      "name": "python3"
    },
    "language_info": {
      "codemirror_mode": {
        "name": "ipython",
        "version": 3
      },
      "file_extension": ".py",
      "mimetype": "text/x-python",
      "name": "python",
      "nbconvert_exporter": "python",
      "pygments_lexer": "ipython3",
      "version": "3.8.5"
    }
  },
  "nbformat": 4,
  "nbformat_minor": 0
}